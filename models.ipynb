{
  "nbformat": 4,
  "nbformat_minor": 0,
  "metadata": {
    "colab": {
      "name": "models.ipynb",
      "provenance": [],
      "authorship_tag": "ABX9TyP6b0AVcHytXIky8QswfXRe",
      "include_colab_link": true
    },
    "kernelspec": {
      "name": "python3",
      "display_name": "Python 3"
    },
    "language_info": {
      "name": "python"
    }
  },
  "cells": [
    {
      "cell_type": "markdown",
      "metadata": {
        "id": "view-in-github",
        "colab_type": "text"
      },
      "source": [
        "<a href=\"https://colab.research.google.com/github/satogen/datascience_tips/blob/main/models.ipynb\" target=\"_parent\"><img src=\"https://colab.research.google.com/assets/colab-badge.svg\" alt=\"Open In Colab\"/></a>"
      ]
    },
    {
      "cell_type": "code",
      "execution_count": 12,
      "metadata": {
        "id": "lF-SJaEYcGJe"
      },
      "outputs": [],
      "source": [
        "import seaborn as sns\n",
        "import numpy as np\n",
        "import pandas as pd\n",
        " \n",
        "# データ可視化ライブラリ\n",
        "import matplotlib.pyplot as plt\n",
        "%matplotlib inline \n",
        " \n",
        " \n",
        "# LightGBM\n",
        "import lightgbm as lgb\n",
        " \n",
        "# Scikit-learn（評価算出）\n",
        "from sklearn.metrics import confusion_matrix\n",
        "from sklearn.metrics import accuracy_score\n",
        "from sklearn.metrics import log_loss\n",
        "from sklearn import preprocessing\n",
        "from sklearn.model_selection import KFold\n",
        "from sklearn.model_selection import train_test_split\n"
      ]
    },
    {
      "cell_type": "markdown",
      "source": [
        "# データの読み込み"
      ],
      "metadata": {
        "id": "MoYSjG7-sObU"
      }
    },
    {
      "cell_type": "code",
      "source": [
        "multiclass_df = sns.load_dataset('iris')\n",
        "multiclass_df.head()"
      ],
      "metadata": {
        "colab": {
          "base_uri": "https://localhost:8080/",
          "height": 206
        },
        "id": "2Un9otTMrpFv",
        "outputId": "760e4a39-3fa9-4af4-f3c4-39510496d34d"
      },
      "execution_count": 2,
      "outputs": [
        {
          "output_type": "execute_result",
          "data": {
            "text/plain": [
              "   sepal_length  sepal_width  petal_length  petal_width species\n",
              "0           5.1          3.5           1.4          0.2  setosa\n",
              "1           4.9          3.0           1.4          0.2  setosa\n",
              "2           4.7          3.2           1.3          0.2  setosa\n",
              "3           4.6          3.1           1.5          0.2  setosa\n",
              "4           5.0          3.6           1.4          0.2  setosa"
            ],
            "text/html": [
              "\n",
              "  <div id=\"df-a73e4907-1bdf-4e99-9b9c-8507ad3f56fb\">\n",
              "    <div class=\"colab-df-container\">\n",
              "      <div>\n",
              "<style scoped>\n",
              "    .dataframe tbody tr th:only-of-type {\n",
              "        vertical-align: middle;\n",
              "    }\n",
              "\n",
              "    .dataframe tbody tr th {\n",
              "        vertical-align: top;\n",
              "    }\n",
              "\n",
              "    .dataframe thead th {\n",
              "        text-align: right;\n",
              "    }\n",
              "</style>\n",
              "<table border=\"1\" class=\"dataframe\">\n",
              "  <thead>\n",
              "    <tr style=\"text-align: right;\">\n",
              "      <th></th>\n",
              "      <th>sepal_length</th>\n",
              "      <th>sepal_width</th>\n",
              "      <th>petal_length</th>\n",
              "      <th>petal_width</th>\n",
              "      <th>species</th>\n",
              "    </tr>\n",
              "  </thead>\n",
              "  <tbody>\n",
              "    <tr>\n",
              "      <th>0</th>\n",
              "      <td>5.1</td>\n",
              "      <td>3.5</td>\n",
              "      <td>1.4</td>\n",
              "      <td>0.2</td>\n",
              "      <td>setosa</td>\n",
              "    </tr>\n",
              "    <tr>\n",
              "      <th>1</th>\n",
              "      <td>4.9</td>\n",
              "      <td>3.0</td>\n",
              "      <td>1.4</td>\n",
              "      <td>0.2</td>\n",
              "      <td>setosa</td>\n",
              "    </tr>\n",
              "    <tr>\n",
              "      <th>2</th>\n",
              "      <td>4.7</td>\n",
              "      <td>3.2</td>\n",
              "      <td>1.3</td>\n",
              "      <td>0.2</td>\n",
              "      <td>setosa</td>\n",
              "    </tr>\n",
              "    <tr>\n",
              "      <th>3</th>\n",
              "      <td>4.6</td>\n",
              "      <td>3.1</td>\n",
              "      <td>1.5</td>\n",
              "      <td>0.2</td>\n",
              "      <td>setosa</td>\n",
              "    </tr>\n",
              "    <tr>\n",
              "      <th>4</th>\n",
              "      <td>5.0</td>\n",
              "      <td>3.6</td>\n",
              "      <td>1.4</td>\n",
              "      <td>0.2</td>\n",
              "      <td>setosa</td>\n",
              "    </tr>\n",
              "  </tbody>\n",
              "</table>\n",
              "</div>\n",
              "      <button class=\"colab-df-convert\" onclick=\"convertToInteractive('df-a73e4907-1bdf-4e99-9b9c-8507ad3f56fb')\"\n",
              "              title=\"Convert this dataframe to an interactive table.\"\n",
              "              style=\"display:none;\">\n",
              "        \n",
              "  <svg xmlns=\"http://www.w3.org/2000/svg\" height=\"24px\"viewBox=\"0 0 24 24\"\n",
              "       width=\"24px\">\n",
              "    <path d=\"M0 0h24v24H0V0z\" fill=\"none\"/>\n",
              "    <path d=\"M18.56 5.44l.94 2.06.94-2.06 2.06-.94-2.06-.94-.94-2.06-.94 2.06-2.06.94zm-11 1L8.5 8.5l.94-2.06 2.06-.94-2.06-.94L8.5 2.5l-.94 2.06-2.06.94zm10 10l.94 2.06.94-2.06 2.06-.94-2.06-.94-.94-2.06-.94 2.06-2.06.94z\"/><path d=\"M17.41 7.96l-1.37-1.37c-.4-.4-.92-.59-1.43-.59-.52 0-1.04.2-1.43.59L10.3 9.45l-7.72 7.72c-.78.78-.78 2.05 0 2.83L4 21.41c.39.39.9.59 1.41.59.51 0 1.02-.2 1.41-.59l7.78-7.78 2.81-2.81c.8-.78.8-2.07 0-2.86zM5.41 20L4 18.59l7.72-7.72 1.47 1.35L5.41 20z\"/>\n",
              "  </svg>\n",
              "      </button>\n",
              "      \n",
              "  <style>\n",
              "    .colab-df-container {\n",
              "      display:flex;\n",
              "      flex-wrap:wrap;\n",
              "      gap: 12px;\n",
              "    }\n",
              "\n",
              "    .colab-df-convert {\n",
              "      background-color: #E8F0FE;\n",
              "      border: none;\n",
              "      border-radius: 50%;\n",
              "      cursor: pointer;\n",
              "      display: none;\n",
              "      fill: #1967D2;\n",
              "      height: 32px;\n",
              "      padding: 0 0 0 0;\n",
              "      width: 32px;\n",
              "    }\n",
              "\n",
              "    .colab-df-convert:hover {\n",
              "      background-color: #E2EBFA;\n",
              "      box-shadow: 0px 1px 2px rgba(60, 64, 67, 0.3), 0px 1px 3px 1px rgba(60, 64, 67, 0.15);\n",
              "      fill: #174EA6;\n",
              "    }\n",
              "\n",
              "    [theme=dark] .colab-df-convert {\n",
              "      background-color: #3B4455;\n",
              "      fill: #D2E3FC;\n",
              "    }\n",
              "\n",
              "    [theme=dark] .colab-df-convert:hover {\n",
              "      background-color: #434B5C;\n",
              "      box-shadow: 0px 1px 3px 1px rgba(0, 0, 0, 0.15);\n",
              "      filter: drop-shadow(0px 1px 2px rgba(0, 0, 0, 0.3));\n",
              "      fill: #FFFFFF;\n",
              "    }\n",
              "  </style>\n",
              "\n",
              "      <script>\n",
              "        const buttonEl =\n",
              "          document.querySelector('#df-a73e4907-1bdf-4e99-9b9c-8507ad3f56fb button.colab-df-convert');\n",
              "        buttonEl.style.display =\n",
              "          google.colab.kernel.accessAllowed ? 'block' : 'none';\n",
              "\n",
              "        async function convertToInteractive(key) {\n",
              "          const element = document.querySelector('#df-a73e4907-1bdf-4e99-9b9c-8507ad3f56fb');\n",
              "          const dataTable =\n",
              "            await google.colab.kernel.invokeFunction('convertToInteractive',\n",
              "                                                     [key], {});\n",
              "          if (!dataTable) return;\n",
              "\n",
              "          const docLinkHtml = 'Like what you see? Visit the ' +\n",
              "            '<a target=\"_blank\" href=https://colab.research.google.com/notebooks/data_table.ipynb>data table notebook</a>'\n",
              "            + ' to learn more about interactive tables.';\n",
              "          element.innerHTML = '';\n",
              "          dataTable['output_type'] = 'display_data';\n",
              "          await google.colab.output.renderOutput(dataTable, element);\n",
              "          const docLink = document.createElement('div');\n",
              "          docLink.innerHTML = docLinkHtml;\n",
              "          element.appendChild(docLink);\n",
              "        }\n",
              "      </script>\n",
              "    </div>\n",
              "  </div>\n",
              "  "
            ]
          },
          "metadata": {},
          "execution_count": 2
        }
      ]
    },
    {
      "cell_type": "code",
      "source": [
        "print(multiclass_df[\"species\"].unique())\n",
        "print(multiclass_df[\"species\"].nunique())"
      ],
      "metadata": {
        "colab": {
          "base_uri": "https://localhost:8080/"
        },
        "id": "VskSbbtArtox",
        "outputId": "66ecebe7-076c-407f-fce7-424e8a2ef086"
      },
      "execution_count": 16,
      "outputs": [
        {
          "output_type": "stream",
          "name": "stdout",
          "text": [
            "['setosa' 'versicolor' 'virginica']\n",
            "3\n"
          ]
        }
      ]
    },
    {
      "cell_type": "code",
      "source": [
        "le = preprocessing.LabelEncoder()\n",
        "multiclass_df[\"target\"] = le.fit_transform(multiclass_df[\"species\"])"
      ],
      "metadata": {
        "id": "4-JFhh7Er3Ac"
      },
      "execution_count": 17,
      "outputs": []
    },
    {
      "cell_type": "code",
      "source": [
        "train, test = train_test_split(multiclass_df, test_size=0.3, random_state=0)\n",
        "print(train.shape)\n",
        "print(test.shape)"
      ],
      "metadata": {
        "colab": {
          "base_uri": "https://localhost:8080/"
        },
        "id": "xIY3HSJdDU0i",
        "outputId": "97af916b-9cb6-4aaf-cb91-301139c26d57"
      },
      "execution_count": 18,
      "outputs": [
        {
          "output_type": "stream",
          "name": "stdout",
          "text": [
            "(105, 6)\n",
            "(45, 6)\n"
          ]
        }
      ]
    },
    {
      "cell_type": "code",
      "source": [
        "train_X = train.drop([\"target\",\"species\"], axis=1)\n",
        "test_X = test.drop([\"target\",\"species\"], axis=1)\n",
        "train_y = train[\"target\"]\n",
        "test_y = test[\"target\"]"
      ],
      "metadata": {
        "id": "yU_t5hXqupaS"
      },
      "execution_count": 19,
      "outputs": []
    },
    {
      "cell_type": "code",
      "source": [
        "train_y.nunique()"
      ],
      "metadata": {
        "colab": {
          "base_uri": "https://localhost:8080/"
        },
        "id": "6BxFL5HnvK9b",
        "outputId": "3789ff6e-55d3-4f58-e6be-bfaadace9cad"
      },
      "execution_count": 20,
      "outputs": [
        {
          "output_type": "execute_result",
          "data": {
            "text/plain": [
              "3"
            ]
          },
          "metadata": {},
          "execution_count": 20
        }
      ]
    },
    {
      "cell_type": "markdown",
      "source": [
        "## クロスバリデーション"
      ],
      "metadata": {
        "id": "l2XW0LTbubIN"
      }
    },
    {
      "cell_type": "code",
      "source": [
        "FOLD = 5\n",
        "kf = KFold(n_splits=FOLD, shuffle=True, random_state=42)"
      ],
      "metadata": {
        "id": "5sKqxFTVuagI"
      },
      "execution_count": 21,
      "outputs": []
    },
    {
      "cell_type": "code",
      "source": [
        "# 学習データに対する「目的変数を知らない」予測値と、テストデータに対する予測値を返す関数\n",
        "def predict_cv(model, train_x, train_y, test_x, cv, metrics=None):\n",
        "    preds = []\n",
        "    preds_test = []\n",
        "    va_idxes = []\n",
        "\n",
        "    # クロスバリデーションで学習・予測を行い、予測値とインデックスを保存する\n",
        "    for i, (tr_idx, va_idx) in enumerate(cv.split(train_x)):\n",
        "      # データの作成\n",
        "        tr_x, va_x = train_x.iloc[tr_idx], train_x.iloc[va_idx]\n",
        "        tr_y, va_y = train_y.iloc[tr_idx], train_y.iloc[va_idx]\n",
        "        # モデルの学習\n",
        "        model.fit(tr_x, tr_y, va_x, va_y)\n",
        "\n",
        "        # 予測結果の格納\n",
        "        pred = model.predict(va_x)\n",
        "        preds.append(pred)\n",
        "\n",
        "        # 精度検証\n",
        "        if metrics:\n",
        "          metrics(va_y, pred)\n",
        "\n",
        "        # テストデータに対する予測\n",
        "        pred_test = model.predict(test_x)\n",
        "        preds_test.append(pred_test)\n",
        "        va_idxes.append(va_idx)\n",
        "\n",
        "    # バリデーションデータに対する予測値を連結し、その後元の順序に並べ直す\n",
        "    va_idxes = np.concatenate(va_idxes)\n",
        "    preds = np.concatenate(preds, axis=0)\n",
        "    order = np.argsort(va_idxes)\n",
        "    pred_train = preds[order]\n",
        "\n",
        "    # テストデータに対する予測値の平均をとる\n",
        "    preds_test = np.mean(preds_test, axis=0)\n",
        "\n",
        "    return pred_train, preds_test\n",
        "\n",
        "\n",
        "def metrics_log_loss(y, y_pred):\n",
        "   # 評価関数　タスクによって変更\n",
        "   score = log_loss(y, y_pred)\n",
        "   print(f'Metrics: {score}')"
      ],
      "metadata": {
        "id": "4SkqFNTWN7tt"
      },
      "execution_count": 58,
      "outputs": []
    },
    {
      "cell_type": "markdown",
      "source": [
        "## LightGBM\n",
        "\n",
        "各ハイパーパラメータの調整方法は、こちらを参考\n",
        "- LightGBM徹底入門  5. LightGBMのハイパーパラメータ\n",
        "https://www.codexa.net/lightgbm-beginner/"
      ],
      "metadata": {
        "id": "kalnGXUctjp-"
      }
    },
    {
      "cell_type": "code",
      "source": [
        "# lightGBM\n",
        "class ModelLightGBM:\n",
        "\n",
        "    def __init__(self, params, round, verbose=-1):\n",
        "        self.model = None\n",
        "        self.params = params\n",
        "        self.num_round = round\n",
        "        self.verbose = verbose\n",
        "\n",
        "    def fit(self, X_train, y_train, X_valid, y_valid):\n",
        "        lgb_train = lgb.Dataset(X_train, y_train)\n",
        "        lgb_eval = lgb.Dataset(X_valid, y_valid)\n",
        "\n",
        "        # モデルの学習\n",
        "        self.model = lgb.train(\n",
        "            self.params,\n",
        "            lgb_train,\n",
        "            valid_sets=lgb_eval,\n",
        "            num_boost_round=self.num_round,\n",
        "            verbose_eval=self.verbose\n",
        "        )\n",
        "\n",
        "    def predict(self, x):\n",
        "        pred = self.model.predict(x)\n",
        "        return pred"
      ],
      "metadata": {
        "id": "i1Z3kcWGAlyy"
      },
      "execution_count": 26,
      "outputs": []
    },
    {
      "cell_type": "code",
      "source": [
        "NUM_ROUND = 100\n",
        "VERBOSE_EVAL = -1\n",
        "\n",
        "# objective \n",
        "## 下記ドキュメントのobjectiveに対応タスクと対応Lossの記述あり\n",
        "## https://lightgbm.readthedocs.io/en/latest/Parameters.html\n",
        "\n",
        "params = {\n",
        "    'task': 'train',\n",
        "    'boosting_type': 'gbdt',\n",
        "    'objective': 'multiclass',\n",
        "    'num_class': train_y.nunique(),\n",
        "    'verbose': -1,\n",
        "    'early_stopping_round':10\n",
        "\n",
        "}\n",
        "\n",
        "model_1a = ModelLightGBM(params, NUM_ROUND)\n",
        "\n",
        "pred_train_1a, pred_test_1a = predict_cv(model_1a, train_X, train_y, test_X, kf, metrics_log_loss)"
      ],
      "metadata": {
        "colab": {
          "base_uri": "https://localhost:8080/"
        },
        "id": "qsryJFmpB_Et",
        "outputId": "525b15fe-2eb2-4049-b127-280e03b48514"
      },
      "execution_count": 59,
      "outputs": [
        {
          "output_type": "stream",
          "name": "stderr",
          "text": [
            "/usr/local/lib/python3.7/dist-packages/lightgbm/engine.py:123: UserWarning: Found `early_stopping_round` in params. Will use it instead of argument\n",
            "  warnings.warn(\"Found `{}` in params. Will use it instead of argument\".format(alias))\n"
          ]
        },
        {
          "output_type": "stream",
          "name": "stdout",
          "text": [
            "Training until validation scores don't improve for 10 rounds.\n",
            "Early stopping, best iteration is:\n",
            "[39]\tvalid_0's multi_logloss: 0.25806\n",
            "Metrics: 0.2580598411678388\n"
          ]
        },
        {
          "output_type": "stream",
          "name": "stderr",
          "text": [
            "/usr/local/lib/python3.7/dist-packages/lightgbm/engine.py:123: UserWarning: Found `early_stopping_round` in params. Will use it instead of argument\n",
            "  warnings.warn(\"Found `{}` in params. Will use it instead of argument\".format(alias))\n"
          ]
        },
        {
          "output_type": "stream",
          "name": "stdout",
          "text": [
            "Training until validation scores don't improve for 10 rounds.\n",
            "Early stopping, best iteration is:\n",
            "[50]\tvalid_0's multi_logloss: 0.175532\n",
            "Metrics: 0.17553174699769022\n"
          ]
        },
        {
          "output_type": "stream",
          "name": "stderr",
          "text": [
            "/usr/local/lib/python3.7/dist-packages/lightgbm/engine.py:123: UserWarning: Found `early_stopping_round` in params. Will use it instead of argument\n",
            "  warnings.warn(\"Found `{}` in params. Will use it instead of argument\".format(alias))\n"
          ]
        },
        {
          "output_type": "stream",
          "name": "stdout",
          "text": [
            "Training until validation scores don't improve for 10 rounds.\n",
            "Did not meet early stopping. Best iteration is:\n",
            "[100]\tvalid_0's multi_logloss: 0.0372936\n",
            "Metrics: 0.03729356884586127\n",
            "Training until validation scores don't improve for 10 rounds.\n"
          ]
        },
        {
          "output_type": "stream",
          "name": "stderr",
          "text": [
            "/usr/local/lib/python3.7/dist-packages/lightgbm/engine.py:123: UserWarning: Found `early_stopping_round` in params. Will use it instead of argument\n",
            "  warnings.warn(\"Found `{}` in params. Will use it instead of argument\".format(alias))\n"
          ]
        },
        {
          "output_type": "stream",
          "name": "stdout",
          "text": [
            "Did not meet early stopping. Best iteration is:\n",
            "[100]\tvalid_0's multi_logloss: 0.00948126\n",
            "Metrics: 0.009481257835771584\n",
            "Training until validation scores don't improve for 10 rounds.\n",
            "Early stopping, best iteration is:\n",
            "[47]\tvalid_0's multi_logloss: 0.19775\n",
            "Metrics: 0.19774960680057024\n"
          ]
        },
        {
          "output_type": "stream",
          "name": "stderr",
          "text": [
            "/usr/local/lib/python3.7/dist-packages/lightgbm/engine.py:123: UserWarning: Found `early_stopping_round` in params. Will use it instead of argument\n",
            "  warnings.warn(\"Found `{}` in params. Will use it instead of argument\".format(alias))\n"
          ]
        }
      ]
    },
    {
      "cell_type": "markdown",
      "source": [
        "## CatBoost\n",
        "\n",
        "- 初心者がCatBoostで分類・回帰できるようになるまで\n",
        "https://ryucoding.com/programming/catboost-beginner"
      ],
      "metadata": {
        "id": "vYDS53OY3SLU"
      }
    },
    {
      "cell_type": "code",
      "source": [
        "!pip install catboost"
      ],
      "metadata": {
        "colab": {
          "base_uri": "https://localhost:8080/"
        },
        "id": "6powmEjPJ_4j",
        "outputId": "21a40d05-c5b5-4845-b01b-e0d561a98460"
      },
      "execution_count": 36,
      "outputs": [
        {
          "output_type": "stream",
          "name": "stdout",
          "text": [
            "Looking in indexes: https://pypi.org/simple, https://us-python.pkg.dev/colab-wheels/public/simple/\n",
            "Collecting catboost\n",
            "  Downloading catboost-1.0.6-cp37-none-manylinux1_x86_64.whl (76.6 MB)\n",
            "\u001b[K     |████████████████████████████████| 76.6 MB 1.2 MB/s \n",
            "\u001b[?25hRequirement already satisfied: scipy in /usr/local/lib/python3.7/dist-packages (from catboost) (1.7.3)\n",
            "Requirement already satisfied: plotly in /usr/local/lib/python3.7/dist-packages (from catboost) (5.5.0)\n",
            "Requirement already satisfied: graphviz in /usr/local/lib/python3.7/dist-packages (from catboost) (0.10.1)\n",
            "Requirement already satisfied: six in /usr/local/lib/python3.7/dist-packages (from catboost) (1.15.0)\n",
            "Requirement already satisfied: pandas>=0.24.0 in /usr/local/lib/python3.7/dist-packages (from catboost) (1.3.5)\n",
            "Requirement already satisfied: matplotlib in /usr/local/lib/python3.7/dist-packages (from catboost) (3.2.2)\n",
            "Requirement already satisfied: numpy>=1.16.0 in /usr/local/lib/python3.7/dist-packages (from catboost) (1.21.6)\n",
            "Requirement already satisfied: python-dateutil>=2.7.3 in /usr/local/lib/python3.7/dist-packages (from pandas>=0.24.0->catboost) (2.8.2)\n",
            "Requirement already satisfied: pytz>=2017.3 in /usr/local/lib/python3.7/dist-packages (from pandas>=0.24.0->catboost) (2022.1)\n",
            "Requirement already satisfied: kiwisolver>=1.0.1 in /usr/local/lib/python3.7/dist-packages (from matplotlib->catboost) (1.4.4)\n",
            "Requirement already satisfied: pyparsing!=2.0.4,!=2.1.2,!=2.1.6,>=2.0.1 in /usr/local/lib/python3.7/dist-packages (from matplotlib->catboost) (3.0.9)\n",
            "Requirement already satisfied: cycler>=0.10 in /usr/local/lib/python3.7/dist-packages (from matplotlib->catboost) (0.11.0)\n",
            "Requirement already satisfied: typing-extensions in /usr/local/lib/python3.7/dist-packages (from kiwisolver>=1.0.1->matplotlib->catboost) (4.1.1)\n",
            "Requirement already satisfied: tenacity>=6.2.0 in /usr/local/lib/python3.7/dist-packages (from plotly->catboost) (8.0.1)\n",
            "Installing collected packages: catboost\n",
            "Successfully installed catboost-1.0.6\n"
          ]
        }
      ]
    },
    {
      "cell_type": "code",
      "source": [
        "from catboost import CatBoost, CatBoostRegressor, CatBoostClassifier\n",
        "from catboost import Pool\n",
        "\n",
        "# CatBoost\n",
        "class ModelCatBoost:\n",
        "\n",
        "    def __init__(self, params, category_features = None):\n",
        "        self.params = params\n",
        "        self.model = CatBoost(self.params)\n",
        "        self.category_features = category_features\n",
        "\n",
        "    def fit(self, X_train, y_train, X_valid, y_valid):\n",
        "        if self.category_features:\n",
        "          ctb_train = Pool(X_train, label=y_train,cat_features=self.category_features)  \n",
        "          ctb_eval  = Pool(X_valid, label=y_valid,cat_features=self.category_features)  \n",
        "        else:\n",
        "          ctb_train = Pool(X_train, label=y_train)  \n",
        "          ctb_eval  = Pool(X_valid, label=y_valid)  \n",
        "\n",
        "        self.model.fit(ctb_train)\n",
        "\n",
        "    def predict(self, x):\n",
        "        pred = self.model.predict(x)\n",
        "        return pred"
      ],
      "metadata": {
        "id": "95_bSZdwAPMO"
      },
      "execution_count": 47,
      "outputs": []
    },
    {
      "cell_type": "code",
      "source": [
        "# 指定できるハイパーパラメータはドキュメントから確認\n",
        "# https://catboost.ai/en/docs/concepts/python-reference_catboost\n",
        "\n",
        "# loss_functionで学習タスクが決定\n",
        "# 指定できるタスクはこちら\n",
        "# https://catboost.ai/en/docs/concepts/loss-functions\n",
        "\n",
        "params = {\n",
        "    'loss_function': 'MultiClass',\n",
        "    'iterations': NUM_ROUND,   \n",
        "    'verbose': 0, # catboostでは学習経過を出したくない場合は0を指定\n",
        "     'early_stopping_rounds':10\n",
        "}\n",
        "\n",
        "model_1a = ModelCatBoost(params)\n",
        "\n",
        "pred_train_1a, pred_test_1a = predict_cv(model_1a, train_X, train_y, test_X, kf, metrics_log_loss)"
      ],
      "metadata": {
        "colab": {
          "base_uri": "https://localhost:8080/"
        },
        "id": "zLP3Ki27MRT0",
        "outputId": "5cf49a46-e8ef-4130-d899-bd7d2533481e"
      },
      "execution_count": 60,
      "outputs": [
        {
          "output_type": "stream",
          "name": "stdout",
          "text": [
            "Metrics: 4.934110913558671\n",
            "Metrics: 1.644703637852891\n",
            "Metrics: 0.0630850283920817\n",
            "Metrics: 2.1094237467877994e-15\n",
            "Metrics: 5.080107250820421\n"
          ]
        }
      ]
    },
    {
      "cell_type": "markdown",
      "source": [
        "## XGBoost"
      ],
      "metadata": {
        "id": "6WAKToAPOKqO"
      }
    },
    {
      "cell_type": "code",
      "source": [
        "import xgboost as xgb"
      ],
      "metadata": {
        "id": "GaJNB9ldPMo4"
      },
      "execution_count": 51,
      "outputs": []
    },
    {
      "cell_type": "code",
      "source": [
        "# xgboostによるモデル\n",
        "class ModelXgboost:\n",
        "\n",
        "    def __init__(self, params, num_round=1000):\n",
        "        self.model = None\n",
        "        self.params = params\n",
        "        self.num_round = num_round\n",
        "\n",
        "    def fit(self, tr_x, tr_y, va_x, va_y):\n",
        "        # params = {'objective': 'binary:logistic', 'silent': 1, 'random_state': 71,\n",
        "        #           'eval_metric': 'logloss'}\n",
        "        dtrain = xgb.DMatrix(tr_x, label=tr_y)\n",
        "        dvalid = xgb.DMatrix(va_x, label=va_y)\n",
        "\n",
        "        # xgb.trainのパラメータ一覧\n",
        "        # https://xgboost.readthedocs.io/en/stable/python/python_api.html#module-xgboost.training\n",
        "        watchlist = [(dtrain, 'train'), (dvalid, 'eval')]\n",
        "        self.model = xgb.train(self.params, dtrain, self.num_round, evals=watchlist)\n",
        "\n",
        "    def predict(self, x):\n",
        "        data = xgb.DMatrix(x)\n",
        "        # 確率を出したい時は、predict_proba\n",
        "        # https://xgboost.readthedocs.io/en/stable/python/python_api.html#xgboost.XGBClassifier.predict_proba\n",
        "        pred = self.model.predict(data)\n",
        "        return pred"
      ],
      "metadata": {
        "id": "9HEZhdIoMfL3"
      },
      "execution_count": 54,
      "outputs": []
    },
    {
      "cell_type": "code",
      "source": [
        "# 指定できるハイパーパラメータはドキュメントから確認\n",
        "# https://xgboost.readthedocs.io/en/stable/parameter.html\n",
        "\n",
        "# objectiveで学習タスクが決定\n",
        "# 指定できるタスクはこちら\n",
        "# https://xgboost.readthedocs.io/en/stable/parameter.html#learning-task-parameters\n",
        "\n",
        "params = {'objective': 'multi:softmax', \n",
        "          'num_class': train_y.nunique(),\n",
        "          'verbosity': 0, 'random_state': 71}\n",
        "\n",
        "model_1a = ModelXgboost(params)\n",
        "\n",
        "pred_train_1a, pred_test_1a = predict_cv(model_1a, train_X, train_y, test_X, kf)"
      ],
      "metadata": {
        "id": "mKtGXl43PvUW"
      },
      "execution_count": null,
      "outputs": []
    }
  ]
}
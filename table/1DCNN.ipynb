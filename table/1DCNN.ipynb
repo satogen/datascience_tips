{
  "nbformat": 4,
  "nbformat_minor": 0,
  "metadata": {
    "colab": {
      "name": "1DCNN.ipynb",
      "provenance": [],
      "collapsed_sections": []
    },
    "kernelspec": {
      "name": "python3",
      "display_name": "Python 3"
    },
    "language_info": {
      "name": "python"
    }
  },
  "cells": [
    {
      "cell_type": "code",
      "execution_count": null,
      "metadata": {
        "id": "3zvneYQQZjvY"
      },
      "outputs": [],
      "source": [
        "import torch\n",
        "import torchvision\n",
        "import numpy\n",
        "from sklearn.preprocessing import StandardScaler\n",
        "import pandas as pd\n",
        "import numpy as np\n",
        "import numpy as np\n",
        "import pandas as pd\n",
        "from sklearn.metrics import roc_auc_score\n",
        "import lightgbm as lgb\n",
        "\n",
        "import torch\n",
        "from torch import nn\n",
        "from torch.utils.data import DataLoader,TensorDataset\n",
        "from torch.optim.lr_scheduler import ReduceLROnPlateau\n",
        "\n",
        "import pytorch_lightning as pl\n",
        "from pytorch_lightning.callbacks.early_stopping import EarlyStopping"
      ]
    },
    {
      "cell_type": "code",
      "source": [
        "!pip install pytorch_lightning"
      ],
      "metadata": {
        "id": "HCFMCVgfi79Y"
      },
      "execution_count": null,
      "outputs": []
    },
    {
      "cell_type": "code",
      "source": [
        "from sklearn.datasets import load_breast_cancer\n",
        "from sklearn.model_selection import train_test_split"
      ],
      "metadata": {
        "id": "XCKjQjiSZqyu"
      },
      "execution_count": null,
      "outputs": []
    },
    {
      "cell_type": "code",
      "source": [
        "X, y = load_breast_cancer(return_X_y=True)\n",
        "X_train, X_test, y_train, y_test = train_test_split(X, y, test_size=0.3, random_state=0)"
      ],
      "metadata": {
        "id": "V6grennjZs-U"
      },
      "execution_count": null,
      "outputs": []
    },
    {
      "cell_type": "code",
      "source": [
        "\n",
        "scaler = StandardScaler()\n",
        "scaler.fit(X_train)\n",
        "X_train = pd.DataFrame(scaler.transform(X_train))\n",
        "X_test =  pd.DataFrame(scaler.transform(X_test))\n",
        "\n"
      ],
      "metadata": {
        "id": "0A5NrNmIaatE"
      },
      "execution_count": null,
      "outputs": []
    },
    {
      "cell_type": "code",
      "source": [
        "pd.DataFrame(y_train).iloc[0].to_list()"
      ],
      "metadata": {
        "colab": {
          "base_uri": "https://localhost:8080/"
        },
        "id": "_rmn3b4mb-ja",
        "outputId": "c148c4b3-46bf-4efe-e19c-44d0d75c3f72"
      },
      "execution_count": null,
      "outputs": [
        {
          "output_type": "execute_result",
          "data": {
            "text/plain": [
              "[1]"
            ]
          },
          "metadata": {},
          "execution_count": 7
        }
      ]
    },
    {
      "cell_type": "code",
      "source": [
        "log_dict = {\n",
        "    \"train_loss\":[],\n",
        "    \"train_auc\":[],\n",
        "    \"val_loss\":[],\n",
        "    \"val_auc\":[]\n",
        "}"
      ],
      "metadata": {
        "id": "mn9MDJp6bN5_"
      },
      "execution_count": null,
      "outputs": []
    },
    {
      "cell_type": "code",
      "source": [
        "class SoftOrdering1DCNN(pl.LightningModule):\n",
        "\n",
        "    def __init__(self, input_dim, output_dim, sign_size=32, cha_input=16, cha_hidden=32, \n",
        "                 K=2, dropout_input=0.2, dropout_hidden=0.2, dropout_output=0.2):\n",
        "        super().__init__()\n",
        "\n",
        "        hidden_size = sign_size*cha_input\n",
        "        sign_size1 = sign_size\n",
        "        sign_size2 = sign_size//2\n",
        "        output_size = (sign_size//4) * cha_hidden\n",
        "\n",
        "        self.hidden_size = hidden_size\n",
        "        self.cha_input = cha_input\n",
        "        self.cha_hidden = cha_hidden\n",
        "        self.K = K\n",
        "        self.sign_size1 = sign_size1\n",
        "        self.sign_size2 = sign_size2\n",
        "        self.output_size = output_size\n",
        "        self.dropout_input = dropout_input\n",
        "        self.dropout_hidden = dropout_hidden\n",
        "        self.dropout_output = dropout_output\n",
        "\n",
        "        self.batch_norm1 = nn.BatchNorm1d(input_dim)\n",
        "        self.dropout1 = nn.Dropout(dropout_input)\n",
        "        dense1 = nn.Linear(input_dim, hidden_size, bias=False)\n",
        "        self.dense1 = nn.utils.weight_norm(dense1)\n",
        "\n",
        "        # 1st conv layer\n",
        "        self.batch_norm_c1 = nn.BatchNorm1d(cha_input)\n",
        "        conv1 = conv1 = nn.Conv1d(\n",
        "            cha_input, \n",
        "            cha_input*K, \n",
        "            kernel_size=5, \n",
        "            stride = 1, \n",
        "            padding=2,  \n",
        "            groups=cha_input, \n",
        "            bias=False)\n",
        "        self.conv1 = nn.utils.weight_norm(conv1, dim=None)\n",
        "\n",
        "        self.ave_po_c1 = nn.AdaptiveAvgPool1d(output_size = sign_size2)\n",
        "\n",
        "        # 2nd conv layer\n",
        "        self.batch_norm_c2 = nn.BatchNorm1d(cha_input*K)\n",
        "        self.dropout_c2 = nn.Dropout(dropout_hidden)\n",
        "        conv2 = nn.Conv1d(\n",
        "            cha_input*K, \n",
        "            cha_hidden, \n",
        "            kernel_size=3, \n",
        "            stride=1, \n",
        "            padding=1, \n",
        "            bias=False)\n",
        "        self.conv2 = nn.utils.weight_norm(conv2, dim=None)\n",
        "\n",
        "        # 3rd conv layer\n",
        "        self.batch_norm_c3 = nn.BatchNorm1d(cha_hidden)\n",
        "        self.dropout_c3 = nn.Dropout(dropout_hidden)\n",
        "        conv3 = nn.Conv1d(\n",
        "            cha_hidden, \n",
        "            cha_hidden, \n",
        "            kernel_size=3, \n",
        "            stride=1, \n",
        "            padding=1, \n",
        "            bias=False)\n",
        "        self.conv3 = nn.utils.weight_norm(conv3, dim=None)\n",
        "        \n",
        "\n",
        "        # 4th conv layer\n",
        "        self.batch_norm_c4 = nn.BatchNorm1d(cha_hidden)\n",
        "        conv4 = nn.Conv1d(\n",
        "            cha_hidden, \n",
        "            cha_hidden, \n",
        "            kernel_size=5, \n",
        "            stride=1, \n",
        "            padding=2, \n",
        "            groups=cha_hidden, \n",
        "            bias=False)\n",
        "        self.conv4 = nn.utils.weight_norm(conv4, dim=None)\n",
        "\n",
        "        self.avg_po_c4 = nn.AvgPool1d(kernel_size=4, stride=2, padding=1)\n",
        "\n",
        "        self.flt = nn.Flatten()\n",
        "\n",
        "        self.batch_norm2 = nn.BatchNorm1d(output_size)\n",
        "        self.dropout2 = nn.Dropout(dropout_output)\n",
        "        dense2 = nn.Linear(output_size, output_dim, bias=False)\n",
        "        self.dense2 = nn.utils.weight_norm(dense2)\n",
        "\n",
        "        self.loss = nn.BCEWithLogitsLoss()\n",
        "\n",
        "        self.log_dict = {\n",
        "            \"train_loss\":[],\n",
        "            \"train_auc\":[],\n",
        "            \"val_loss\":[],\n",
        "            \"val_auc\":[]\n",
        "            }\n",
        "        \n",
        "    def forward(self, x):\n",
        "        x = self.batch_norm1(x)\n",
        "        x = self.dropout1(x)\n",
        "        x = nn.functional.celu(self.dense1(x))\n",
        "\n",
        "        x = x.reshape(x.shape[0], self.cha_input, self.sign_size1)\n",
        "\n",
        "        x = self.batch_norm_c1(x)\n",
        "        x = nn.functional.relu(self.conv1(x))\n",
        "\n",
        "        x = self.ave_po_c1(x)\n",
        "\n",
        "        x = self.batch_norm_c2(x)\n",
        "        x = self.dropout_c2(x)\n",
        "        x = nn.functional.relu(self.conv2(x))\n",
        "        x_s = x\n",
        "\n",
        "        x = self.batch_norm_c3(x)\n",
        "        x = self.dropout_c3(x)\n",
        "        x = nn.functional.relu(self.conv3(x))\n",
        "\n",
        "        x = self.batch_norm_c4(x)\n",
        "        x = self.conv4(x)\n",
        "        x =  x + x_s\n",
        "        x = nn.functional.relu(x)\n",
        "\n",
        "        x = self.avg_po_c4(x)\n",
        "\n",
        "        x = self.flt(x)\n",
        "\n",
        "        x = self.batch_norm2(x)\n",
        "        x = self.dropout2(x)\n",
        "        x = self.dense2(x)\n",
        "\n",
        "        return x\n",
        "\n",
        "    def training_step(self, batch, batch_idx):\n",
        "        X, y = batch\n",
        "        y_hat = self.forward(X)\n",
        "        loss = self.loss(y_hat, y)\n",
        "        self.log('train_loss', loss)\n",
        "        return {\"loss\":loss, \"y_hat\":y_hat, \"y\":y, \"batch_loss\":loss.item() * X.size(0)}\n",
        "\n",
        "    def training_epoch_end(self, train_step_outputs):\n",
        "        # log epoch metric\n",
        "        # self.log('train_acc_epoch', self.accuracy)\n",
        "        y_hat = torch.cat([val['y_hat'] for val in train_step_outputs], dim=0)\n",
        "        y = torch.cat([val['y'] for val in train_step_outputs], dim=0)\n",
        "        epoch_loss = sum([val['batch_loss'] for val in train_step_outputs]) / y_hat.size(0)\n",
        "\n",
        "        y_probs = torch.sigmoid(y_hat).detach().cpu().numpy()\n",
        "        metric = roc_auc_score(y.cpu().numpy(), y_probs)\n",
        "        self.log_dict[\"train_auc\"].append(metric)\n",
        "        self.log_dict[\"train_loss\"].append(epoch_loss)\n",
        "\n",
        "    def validation_step(self, batch, batch_idx):\n",
        "        X, y = batch\n",
        "        y_hat = self.forward(X)\n",
        "        loss = self.loss(y_hat, y)\n",
        "        self.log('valid_loss', loss)\n",
        "        return {\"loss\":loss, \"y_hat\":y_hat, \"y\":y, \"batch_loss\":loss.item() * X.size(0)}\n",
        "\n",
        "    def validation_epoch_end(self, val_step_outputs):\n",
        "        y_hat = torch.cat([val['y_hat'] for val in val_step_outputs], dim=0)\n",
        "        y = torch.cat([val['y'] for val in val_step_outputs], dim=0)\n",
        "        epoch_loss = sum([val['batch_loss'] for val in val_step_outputs]) / y_hat.size(0)\n",
        "\n",
        "        y_probs = torch.sigmoid(y_hat).detach().cpu().numpy()\n",
        "        metric = roc_auc_score(y.cpu().numpy(), y_probs)\n",
        "        self.log_dict[\"val_loss\"].append(epoch_loss)\n",
        "        self.log_dict[\"val_auc\"].append(metric)\n",
        "\n",
        "    def test_step(self, batch, batch_idx):\n",
        "        X, y = batch\n",
        "        y_logit = self.forward(X)\n",
        "        y_probs = torch.sigmoid(y_logit).detach().cpu().numpy()\n",
        "        loss = self.loss(y_logit, y)\n",
        "        metric = roc_auc_score(y.cpu().numpy(), y_probs)\n",
        "        self.log('test_loss', loss)\n",
        "        self.log('test_metric', metric)\n",
        "        \n",
        "    def configure_optimizers(self):\n",
        "        optimizer = torch.optim.SGD(self.parameters(), lr=1e-4, momentum=0.9)\n",
        "        scheduler = {\n",
        "            'scheduler': ReduceLROnPlateau(\n",
        "                optimizer, \n",
        "                mode=\"min\", \n",
        "                factor=0.5, \n",
        "                patience=5, \n",
        "                min_lr=1e-5),\n",
        "            'interval': 'epoch',\n",
        "            'frequency': 1,\n",
        "            'reduce_on_plateau': True,\n",
        "            'monitor': 'valid_loss',\n",
        "        }\n",
        "        return [optimizer], [scheduler]\n",
        "    \n",
        "    def get_logs(self):\n",
        "      return self.log_dict"
      ],
      "metadata": {
        "id": "-mT7JTsTtO9U"
      },
      "execution_count": null,
      "outputs": []
    },
    {
      "cell_type": "code",
      "source": [
        "from torch.utils.data import DataLoader,TensorDataset\n",
        "train_tensor_dset = TensorDataset(\n",
        "    torch.tensor(X_train.values, dtype=torch.float),\n",
        "    torch.tensor(pd.DataFrame(y_train).values.reshape(-1,1), dtype=torch.float)\n",
        ")\n",
        "\n",
        "valid_tensor_dset = TensorDataset(\n",
        "    torch.tensor(X_test.values, dtype=torch.float),\n",
        "    torch.tensor(pd.DataFrame(y_test).values.reshape(-1,1), dtype=torch.float)\n",
        ")"
      ],
      "metadata": {
        "id": "pnFb5rLZiSeG"
      },
      "execution_count": null,
      "outputs": []
    },
    {
      "cell_type": "code",
      "source": [
        "model = SoftOrdering1DCNN(\n",
        "    input_dim=len(X_train.columns), \n",
        "    output_dim=1, \n",
        "    sign_size=16, \n",
        "    cha_input=64, \n",
        "    cha_hidden=64, \n",
        "    K=2, \n",
        "    dropout_input=0.3, \n",
        "    dropout_hidden=0.3, \n",
        "    dropout_output=0.2\n",
        ")"
      ],
      "metadata": {
        "id": "MjHAqrDNtSMf"
      },
      "execution_count": null,
      "outputs": []
    },
    {
      "cell_type": "code",
      "source": [
        "# https://maxinterview.com/code/pytorch-lightning-save-checkpoint-every-epoch-807562644CE3D40/\n",
        "early_stop_callback = EarlyStopping(\n",
        "   monitor='valid_loss',\n",
        "   min_delta=.0,\n",
        "   patience=21,\n",
        "   verbose=True,\n",
        "   mode='min'\n",
        ")\n",
        "class CheckpointEveryEpoch(pl.Callback):\n",
        "    def __init__(self, start_epoc, save_path):\n",
        "        self.start_epoc = start_epoc\n",
        "        self.save_path = save_path\n",
        "\n",
        "    def on_epoch_end(self, trainer: pl.Trainer, _):\n",
        "        \"\"\" Check if we should save a checkpoint after every train epoch \"\"\"\n",
        "        epoch = trainer.current_epoch\n",
        "        # if epoch >= self.start_epoc:\n",
        "        ckpt_path = f\"{self.save_path}_e{epoch}.ckpt\"\n",
        "        trainer.save_checkpoint(ckpt_path)\n",
        "\n",
        "epoch = 20\n",
        "# trainer = Trainer(callbacks=[CheckpointEveryEpoch(2, args.save_path)]\n",
        "trainer = pl.Trainer(callbacks=[early_stop_callback, CheckpointEveryEpoch(1, \"/content/lightning_logs\")], min_epochs=10, max_epochs=epoch, gpus=1, accelerator=\"cpu\")"
      ],
      "metadata": {
        "colab": {
          "base_uri": "https://localhost:8080/"
        },
        "id": "wiG9UyH7mFrC",
        "outputId": "b6a69f98-efa3-4d43-e307-e55420c0a051"
      },
      "execution_count": null,
      "outputs": [
        {
          "output_type": "stream",
          "name": "stderr",
          "text": [
            "/usr/local/lib/python3.7/dist-packages/pytorch_lightning/trainer/connectors/accelerator_connector.py:447: LightningDeprecationWarning: Setting `Trainer(gpus=1)` is deprecated in v1.7 and will be removed in v2.0. Please use `Trainer(accelerator='gpu', devices=1)` instead.\n",
            "  f\"Setting `Trainer(gpus={gpus!r})` is deprecated in v1.7 and will be removed\"\n",
            "INFO:pytorch_lightning.utilities.rank_zero:GPU available: False, used: False\n",
            "INFO:pytorch_lightning.utilities.rank_zero:TPU available: False, using: 0 TPU cores\n",
            "INFO:pytorch_lightning.utilities.rank_zero:IPU available: False, using: 0 IPUs\n",
            "INFO:pytorch_lightning.utilities.rank_zero:HPU available: False, using: 0 HPUs\n"
          ]
        }
      ]
    },
    {
      "cell_type": "code",
      "source": [
        "len(DataLoader(train_tensor_dset, batch_size=8, shuffle=True, num_workers=4))"
      ],
      "metadata": {
        "colab": {
          "base_uri": "https://localhost:8080/"
        },
        "id": "0f2waZK8jDkW",
        "outputId": "ed3936a9-d5ac-4eeb-95f8-ba86f183d37e"
      },
      "execution_count": null,
      "outputs": [
        {
          "output_type": "stream",
          "name": "stderr",
          "text": [
            "/usr/local/lib/python3.7/dist-packages/torch/utils/data/dataloader.py:566: UserWarning: This DataLoader will create 4 worker processes in total. Our suggested max number of worker in current system is 2, which is smaller than what this DataLoader is going to create. Please be aware that excessive worker creation might get DataLoader running slow or even freeze, lower the worker number to avoid potential slowness/freeze if necessary.\n",
            "  cpuset_checked))\n"
          ]
        },
        {
          "output_type": "execute_result",
          "data": {
            "text/plain": [
              "50"
            ]
          },
          "metadata": {},
          "execution_count": 273
        }
      ]
    },
    {
      "cell_type": "code",
      "source": [
        "trainer.fit(\n",
        "    model, \n",
        "    DataLoader(train_tensor_dset, batch_size=16, shuffle=True, num_workers=4),\n",
        "    DataLoader(valid_tensor_dset, batch_size=16, shuffle=False, num_workers=4)\n",
        ")"
      ],
      "metadata": {
        "id": "fPGy0ZZEdJu1"
      },
      "execution_count": null,
      "outputs": []
    },
    {
      "cell_type": "code",
      "source": [
        "import matplotlib.pyplot as plt\n",
        "\n",
        "fig = plt.figure(facecolor=\"white\")\n",
        "ax = fig.add_subplot(111, xlabel=\"Epoch\", ylabel='Loss')\n",
        "\n",
        "ax.plot(range(1, epoch+1), model.get_logs()[\"train_loss\"], label=\"train_loss\")\n",
        "ax.plot(range(1, epoch+1), model.get_logs()[\"val_loss\"][:-1], label=\"val_loss\")\n",
        "ax.grid(axis='both')\n",
        "ax.legend()  # 凡例表示\n",
        "ax.xaxis.set_ticks(np.arange(1, 21, 2))\n",
        "\n",
        "fig.show()\n",
        "# https://qiita.com/nkay/items/d1eb91e33b9d6469ef51"
      ],
      "metadata": {
        "colab": {
          "base_uri": "https://localhost:8080/",
          "height": 279
        },
        "id": "3eIcy5CatynJ",
        "outputId": "253ce048-c4b8-4028-de44-278e2d463b1a"
      },
      "execution_count": null,
      "outputs": [
        {
          "output_type": "display_data",
          "data": {
            "text/plain": [
              "<Figure size 432x288 with 1 Axes>"
            ],
            "image/png": "[encoded data removed]"
          },
          "metadata": {}
        }
      ]
    },
    {
      "cell_type": "code",
      "source": [
        "import matplotlib.pyplot as plt\n",
        "\n",
        "fig = plt.figure(facecolor=\"white\")\n",
        "ax = fig.add_subplot(111, xlabel=\"Epoch\", ylabel='Loss')\n",
        "\n",
        "ax.plot(range(1, epoch+1), model.get_logs()[\"train_auc\"], label=\"train_auc\")\n",
        "ax.plot(range(1, epoch+1), model.get_logs()[\"val_auc\"][:-1], label=\"val_auc\")\n",
        "ax.grid(axis='both')\n",
        "ax.legend()  # 凡例表示\n",
        "ax.xaxis.set_ticks(np.arange(1, 21, 2))\n",
        "\n",
        "fig.show()\n",
        "# https://qiita.com/nkay/items/d1eb91e33b9d6469ef51"
      ],
      "metadata": {
        "colab": {
          "base_uri": "https://localhost:8080/",
          "height": 279
        },
        "id": "aj_jDK8-0OB1",
        "outputId": "8b58a8e9-2190-4a35-a4da-e9fdc5befaea"
      },
      "execution_count": null,
      "outputs": [
        {
          "output_type": "display_data",
          "data": {
            "text/plain": [
              "<Figure size 432x288 with 1 Axes>"
            ],
            "image/png": "[encoded data removed]"
          },
          "metadata": {}
        }
      ]
    },
    {
      "cell_type": "code",
      "source": [
        "%reload_ext tensorboard\n",
        "%tensorboard --logdir /content/lightning_logs/version_2\n",
        "# https://tech.jxpress.net/entry/2021/11/17/112214#%E7%B5%90%E6%9E%9C%E3%81%AE%E8%A1%A8%E7%A4%BA"
      ],
      "metadata": {
        "id": "F9bhrLa7dQa1"
      },
      "execution_count": null,
      "outputs": []
    },
    {
      "cell_type": "code",
      "source": [
        "dataset = load_breast_cancer()\n",
        "print(dataset.feature_names)"
      ],
      "metadata": {
        "colab": {
          "base_uri": "https://localhost:8080/"
        },
        "id": "qlX5D5HS-Cfa",
        "outputId": "8bc60c0a-d494-4e8d-95ec-3a740888354e"
      },
      "execution_count": null,
      "outputs": [
        {
          "output_type": "stream",
          "name": "stdout",
          "text": [
            "['mean radius' 'mean texture' 'mean perimeter' 'mean area'\n",
            " 'mean smoothness' 'mean compactness' 'mean concavity'\n",
            " 'mean concave points' 'mean symmetry' 'mean fractal dimension'\n",
            " 'radius error' 'texture error' 'perimeter error' 'area error'\n",
            " 'smoothness error' 'compactness error' 'concavity error'\n",
            " 'concave points error' 'symmetry error' 'fractal dimension error'\n",
            " 'worst radius' 'worst texture' 'worst perimeter' 'worst area'\n",
            " 'worst smoothness' 'worst compactness' 'worst concavity'\n",
            " 'worst concave points' 'worst symmetry' 'worst fractal dimension']\n"
          ]
        }
      ]
    },
    {
      "cell_type": "code",
      "source": [
        "conv1_1 = np.array(model.state_dict()['conv2.weight_v'])[0]\n"
      ],
      "metadata": {
        "id": "CwjQlT4LsTIq"
      },
      "execution_count": null,
      "outputs": []
    },
    {
      "cell_type": "code",
      "source": [
        "conv1_1.shape"
      ],
      "metadata": {
        "colab": {
          "base_uri": "https://localhost:8080/"
        },
        "id": "8-BQCrX2JGI8",
        "outputId": "5f892429-e3ac-46dc-f926-eeb8eda27450"
      },
      "execution_count": null,
      "outputs": [
        {
          "output_type": "execute_result",
          "data": {
            "text/plain": [
              "(128, 3)"
            ]
          },
          "metadata": {},
          "execution_count": 230
        }
      ]
    },
    {
      "cell_type": "code",
      "source": [
        "keys_list = torch.load(model_path)[\"state_dict\"].keys()\n",
        "print(keys_list)"
      ],
      "metadata": {
        "colab": {
          "base_uri": "https://localhost:8080/"
        },
        "id": "QZiTE_poC2nV",
        "outputId": "07c0247e-7d5c-4e5d-e579-75eb962bc408"
      },
      "execution_count": null,
      "outputs": [
        {
          "output_type": "stream",
          "name": "stdout",
          "text": [
            "odict_keys(['batch_norm1.weight', 'batch_norm1.bias', 'batch_norm1.running_mean', 'batch_norm1.running_var', 'batch_norm1.num_batches_tracked', 'dense1.weight_g', 'dense1.weight_v', 'batch_norm_c1.weight', 'batch_norm_c1.bias', 'batch_norm_c1.running_mean', 'batch_norm_c1.running_var', 'batch_norm_c1.num_batches_tracked', 'conv1.weight_g', 'conv1.weight_v', 'batch_norm_c2.weight', 'batch_norm_c2.bias', 'batch_norm_c2.running_mean', 'batch_norm_c2.running_var', 'batch_norm_c2.num_batches_tracked', 'conv2.weight_g', 'conv2.weight_v', 'batch_norm_c3.weight', 'batch_norm_c3.bias', 'batch_norm_c3.running_mean', 'batch_norm_c3.running_var', 'batch_norm_c3.num_batches_tracked', 'conv3.weight_g', 'conv3.weight_v', 'batch_norm_c4.weight', 'batch_norm_c4.bias', 'batch_norm_c4.running_mean', 'batch_norm_c4.running_var', 'batch_norm_c4.num_batches_tracked', 'conv4.weight_g', 'conv4.weight_v', 'batch_norm2.weight', 'batch_norm2.bias', 'batch_norm2.running_mean', 'batch_norm2.running_var', 'batch_norm2.num_batches_tracked', 'dense2.weight_g', 'dense2.weight_v'])\n"
          ]
        }
      ]
    },
    {
      "cell_type": "code",
      "source": [
        "weight_list = []\n",
        "for dic in keys_list:\n",
        "  if \"weight_v\" in dic:\n",
        "    print(dic)\n",
        "    weight_list.append(dic)"
      ],
      "metadata": {
        "colab": {
          "base_uri": "https://localhost:8080/"
        },
        "id": "94wupxUvfvws",
        "outputId": "bf3e19c3-fa12-48b2-841a-5134b9ac0621"
      },
      "execution_count": null,
      "outputs": [
        {
          "output_type": "stream",
          "name": "stdout",
          "text": [
            "dense1.weight_v\n",
            "conv1.weight_v\n",
            "conv2.weight_v\n",
            "conv3.weight_v\n",
            "conv4.weight_v\n",
            "dense2.weight_v\n"
          ]
        }
      ]
    },
    {
      "cell_type": "code",
      "source": [
        "model.state_dict()[\"conv2.weight_v\"]\n",
        "# np.array(model.state_dict()[\"conv2.weight_g\"]).shape"
      ],
      "metadata": {
        "id": "q38-Lyt2ZPnM"
      },
      "execution_count": null,
      "outputs": []
    },
    {
      "cell_type": "code",
      "source": [
        "plt.figure(figsize=(3.0, 9.0), facecolor=\"white\")\n",
        "\n",
        "plt.imshow(conv1_1.reshape(conv1_1.shape), cmap='gray')\n",
        "# plt.yticks(np.arange(0, len(conv1_1) + 1 , 1), dataset.feature_names)\n",
        "plt.xticks(color=\"None\")\n",
        "\n",
        "plt.show()\n",
        "# https://tech-market.org/matplotlib-memori-mozi/"
      ],
      "metadata": {
        "colab": {
          "base_uri": "https://localhost:8080/",
          "height": 537
        },
        "id": "05w2kOBk_0OO",
        "outputId": "cae5c453-0728-4b3f-985d-c7fa015acf99"
      },
      "execution_count": null,
      "outputs": [
        {
          "output_type": "display_data",
          "data": {
            "text/plain": [
              "<Figure size 216x648 with 1 Axes>"
            ],
            "image/png": "[encoded data removed]"
          },
          "metadata": {}
        }
      ]
    },
    {
      "cell_type": "code",
      "source": [
        "import numpy as np\n",
        "import matplotlib.pyplot as plt\n",
        "import matplotlib.animation as animation\n",
        "\n",
        "fig = plt.figure()\n",
        "ax = fig.add_subplot(111)\n",
        "#Line2D objectを入れるリスト\n",
        "ims = []\n",
        "\n",
        "for i in range(epoch):\n",
        "    model_path = f\"/content/lightning_logs_e{i}.ckpt\"\n",
        "    print(model_path)\n",
        "    conv1_1 = np.array(torch.load(model_path)[\"state_dict\"]['dense1.weight_v'])[0]\n",
        "    im = plt.imshow(conv1_1.reshape(len(conv1_1), 1), cmap='gray')\n",
        "    Text = ax.text(0,-1.5, f\"Epoch: {i}\")\n",
        "    option1 = plt.yticks(np.arange(0, len(conv1_1) + 1 , 1), dataset.feature_names)\n",
        "    option2 = plt.xticks(color=\"None\")\n",
        "    ims.append([im] + [Text]) \n",
        "\n",
        "#アニメの生成\n",
        "ani = animation.ArtistAnimation(fig, ims, interval=100, blit=True, repeat_delay=1000)\n",
        "\n",
        "#保存\n",
        "ani.save(\"sample.gif\", writer=\"pillow\")\n",
        "\n",
        "#表示\n",
        "plt.show()"
      ],
      "metadata": {
        "colab": {
          "base_uri": "https://localhost:8080/",
          "height": 627
        },
        "id": "fTcOyxkZ5kWZ",
        "outputId": "d95526f2-396f-45a5-cd8b-7744c8dc6afb"
      },
      "execution_count": null,
      "outputs": [
        {
          "output_type": "stream",
          "name": "stdout",
          "text": [
            "/content/lightning_logs_e0.ckpt\n",
            "/content/lightning_logs_e1.ckpt\n",
            "/content/lightning_logs_e2.ckpt\n",
            "/content/lightning_logs_e3.ckpt\n",
            "/content/lightning_logs_e4.ckpt\n",
            "/content/lightning_logs_e5.ckpt\n",
            "/content/lightning_logs_e6.ckpt\n",
            "/content/lightning_logs_e7.ckpt\n",
            "/content/lightning_logs_e8.ckpt\n",
            "/content/lightning_logs_e9.ckpt\n",
            "/content/lightning_logs_e10.ckpt\n",
            "/content/lightning_logs_e11.ckpt\n",
            "/content/lightning_logs_e12.ckpt\n",
            "/content/lightning_logs_e13.ckpt\n",
            "/content/lightning_logs_e14.ckpt\n",
            "/content/lightning_logs_e15.ckpt\n",
            "/content/lightning_logs_e16.ckpt\n",
            "/content/lightning_logs_e17.ckpt\n",
            "/content/lightning_logs_e18.ckpt\n",
            "/content/lightning_logs_e19.ckpt\n"
          ]
        },
        {
          "output_type": "display_data",
          "data": {
            "text/plain": [
              "<Figure size 432x288 with 1 Axes>"
            ],
            "image/png": "[encoded data removed]"
          },
          "metadata": {
            "needs_background": "light"
          }
        }
      ]
    },
    {
      "cell_type": "code",
      "source": [
        "fig = plt.figure()\n",
        "ax = fig.add_subplot(111)\n",
        "#Line2D objectを入れるリスト\n",
        "ims = []\n",
        "weight = weight_list[1]\n",
        "for i in range(epoch):\n",
        "    model_path = f\"/content/lightning_logs_e{i}.ckpt\"\n",
        "    conv1_1 = np.array(torch.load(model_path)[\"state_dict\"][f'{weight}'])[0]\n",
        "    im = plt.imshow(conv1_1, cmap='gray')\n",
        "    Text = ax.text(0,-1.5, f\"Epoch: {i}\")\n",
        "    option2 = plt.xticks(color=\"None\")\n",
        "    ims.append([im] + [Text]) \n",
        "\n",
        "#アニメの生成\n",
        "ani = animation.ArtistAnimation(fig, ims, interval=100, blit=True, repeat_delay=1000)\n",
        "\n",
        "#保存\n",
        "ani.save(f\"sample_{weight}.gif\", writer=\"pillow\")\n",
        "\n",
        "#表示\n",
        "plt.show()"
      ],
      "metadata": {
        "colab": {
          "base_uri": "https://localhost:8080/",
          "height": 190
        },
        "id": "OZKxq91rhSzH",
        "outputId": "04dfffb5-b92d-4961-d9da-c66f51fdff50"
      },
      "execution_count": null,
      "outputs": [
        {
          "output_type": "display_data",
          "data": {
            "text/plain": [
              "<Figure size 432x288 with 1 Axes>"
            ],
            "image/png": "[encoded data removed]"
          },
          "metadata": {
            "needs_background": "light"
          }
        }
      ]
    },
    {
      "cell_type": "code",
      "source": [
        "model_path = f\"/content/lightning_logs_e{19}.ckpt\"\n",
        "conv1_1 = np.array(torch.load(model_path)[\"state_dict\"][f'conv2.weight_v'])[0]\n",
        "im = plt.imshow(conv1_1, cmap='gray')\n",
        "model_path = f\"/content/lightning_logs_e{0}.ckpt\"\n",
        "conv1_2 = np.array(torch.load(model_path)[\"state_dict\"][f'conv2.weight_v'])[0]\n",
        "im = plt.imshow(conv1_1, cmap='gray')"
      ],
      "metadata": {
        "colab": {
          "base_uri": "https://localhost:8080/",
          "height": 268
        },
        "id": "H3vzCoNOmQDA",
        "outputId": "11e0478e-4c25-47cf-9ec1-72f9b1f882ba"
      },
      "execution_count": null,
      "outputs": [
        {
          "output_type": "display_data",
          "data": {
            "text/plain": [
              "<Figure size 432x288 with 1 Axes>"
            ],
            "image/png": "[encoded data removed]"
          },
          "metadata": {
            "needs_background": "light"
          }
        }
      ]
    },
    {
      "cell_type": "code",
      "source": [
        "conv1_1 - conv1_2\n"
      ],
      "metadata": {
        "id": "Cf4BuC0Smxpf"
      },
      "execution_count": null,
      "outputs": []
    },
    {
      "cell_type": "code",
      "source": [
        "model_path = f\"/content/lightning_logs_e{0}.ckpt\"\n",
        "conv1_1 = np.array(torch.load(model_path)[\"state_dict\"][f'conv2.weight_v'])[0]\n",
        "im = plt.imshow(conv1_1, cmap='gray')"
      ],
      "metadata": {
        "colab": {
          "base_uri": "https://localhost:8080/",
          "height": 119
        },
        "id": "FH-G1y4imTWY",
        "outputId": "11682e6f-bea6-4f19-898e-a55800e23456"
      },
      "execution_count": null,
      "outputs": [
        {
          "output_type": "display_data",
          "data": {
            "text/plain": [
              "<Figure size 432x288 with 1 Axes>"
            ],
            "image/png": "[encoded data removed]"
          },
          "metadata": {
            "needs_background": "light"
          }
        }
      ]
    },
    {
      "cell_type": "code",
      "source": [
        "fig = plt.figure(figsize=(3.0, 9.0))\n",
        "ax = fig.add_subplot(111)\n",
        "#Line2D objectを入れるリスト\n",
        "ims = []\n",
        "weight = weight_list[2]\n",
        "for i in range(epoch):\n",
        "    model_path = f\"/content/lightning_logs_e{0}.ckpt\"\n",
        "    conv1_1 = np.array(torch.load(model_path)[\"state_dict\"][f'{weight}'])[0]\n",
        "    im = plt.imshow(conv1_1, cmap='gray')\n",
        "    Text = ax.text(0,-1.5, f\"Epoch: {i}\")\n",
        "    option2 = plt.xticks(color=\"None\")\n",
        "    ims.append([im] + [Text]) \n",
        "\n",
        "#アニメの生成\n",
        "ani = animation.ArtistAnimation(fig, ims, interval=100, blit=True, repeat_delay=1000)\n",
        "\n",
        "#保存\n",
        "ani.save(f\"sample_{weight}.gif\", writer=\"pillow\")\n",
        "\n",
        "#表示\n",
        "plt.show()"
      ],
      "metadata": {
        "colab": {
          "base_uri": "https://localhost:8080/",
          "height": 549
        },
        "id": "oerQRSYDs90F",
        "outputId": "518574d2-4480-41bd-9387-d353dd902c8b"
      },
      "execution_count": null,
      "outputs": [
        {
          "output_type": "display_data",
          "data": {
            "text/plain": [
              "<Figure size 216x648 with 1 Axes>"
            ],
            "image/png": "[encoded data removed]"
          },
          "metadata": {
            "needs_background": "light"
          }
        }
      ]
    },
    {
      "cell_type": "code",
      "source": [
        "fig = plt.figure(figsize=(3.0, 9.0))\n",
        "ax = fig.add_subplot(111)\n",
        "#Line2D objectを入れるリスト\n",
        "ims = []\n",
        "weight = weight_list[3]\n",
        "for i in range(epoch):\n",
        "    model_path = f\"/content/lightning_logs_e{0}.ckpt\"\n",
        "    conv1_1 = np.array(torch.load(model_path)[\"state_dict\"][f'{weight}'])[0]\n",
        "    im = plt.imshow(conv1_1, cmap='gray')\n",
        "    Text = ax.text(0,-1.5, f\"Epoch: {i}\")\n",
        "    option2 = plt.xticks(color=\"None\")\n",
        "    ims.append([im] + [Text]) \n",
        "\n",
        "#アニメの生成\n",
        "ani = animation.ArtistAnimation(fig, ims, interval=100, blit=True, repeat_delay=1000)\n",
        "\n",
        "#保存\n",
        "ani.save(f\"sample_{weight}.gif\", writer=\"pillow\")\n",
        "\n",
        "#表示\n",
        "plt.show()"
      ],
      "metadata": {
        "colab": {
          "base_uri": "https://localhost:8080/",
          "height": 553
        },
        "id": "eJqnK5AFfOGW",
        "outputId": "52e35d3b-5e2c-4045-b370-01ca986746f0"
      },
      "execution_count": null,
      "outputs": [
        {
          "output_type": "display_data",
          "data": {
            "text/plain": [
              "<Figure size 216x648 with 1 Axes>"
            ],
            "image/png": "[encoded data removed]"
          },
          "metadata": {
            "needs_background": "light"
          }
        }
      ]
    },
    {
      "cell_type": "code",
      "source": [
        "trainloader = torch.utils.data.DataLoader(train_dataset, batch_size = 100, shuffle = True, num_workers = 2)"
      ],
      "metadata": {
        "id": "GarUfb7HeeFV"
      },
      "execution_count": null,
      "outputs": []
    },
    {
      "cell_type": "code",
      "source": [
        "torchvision.datasets.CIFAR10(download = True)\n"
      ],
      "metadata": {
        "colab": {
          "base_uri": "https://localhost:8080/",
          "height": 175
        },
        "id": "_LBojz0FeiHt",
        "outputId": "7473a8fb-669c-4a82-9ed9-30ee73a92ec9"
      },
      "execution_count": null,
      "outputs": [
        {
          "output_type": "error",
          "ename": "TypeError",
          "evalue": "ignored",
          "traceback": [
            "\u001b[0;31m---------------------------------------------------------------------------\u001b[0m",
            "\u001b[0;31mTypeError\u001b[0m                                 Traceback (most recent call last)",
            "\u001b[0;32m<ipython-input-57-0ae80ab0656a>\u001b[0m in \u001b[0;36m<module>\u001b[0;34m\u001b[0m\n\u001b[0;32m----> 1\u001b[0;31m \u001b[0mtorchvision\u001b[0m\u001b[0;34m.\u001b[0m\u001b[0mdatasets\u001b[0m\u001b[0;34m.\u001b[0m\u001b[0mCIFAR10\u001b[0m\u001b[0;34m(\u001b[0m\u001b[0mdownload\u001b[0m \u001b[0;34m=\u001b[0m \u001b[0;32mTrue\u001b[0m\u001b[0;34m)\u001b[0m\u001b[0;34m\u001b[0m\u001b[0;34m\u001b[0m\u001b[0m\n\u001b[0m",
            "\u001b[0;31mTypeError\u001b[0m: __init__() missing 1 required positional argument: 'root'"
          ]
        }
      ]
    },
    {
      "cell_type": "code",
      "source": [],
      "metadata": {
        "id": "FJpx-LmrfXTd"
      },
      "execution_count": null,
      "outputs": []
    }
  ]
}
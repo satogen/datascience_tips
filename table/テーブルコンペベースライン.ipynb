{
  "nbformat": 4,
  "nbformat_minor": 0,
  "metadata": {
    "colab": {
      "name": "テーブルコンペベースライン.ipynb",
      "provenance": [],
      "collapsed_sections": [],
      "authorship_tag": "ABX9TyN9dP3IQ6cRagb2yAC23NaD",
      "include_colab_link": true
    },
    "kernelspec": {
      "name": "python3",
      "display_name": "Python 3"
    },
    "language_info": {
      "name": "python"
    }
  },
  "cells": [
    {
      "cell_type": "markdown",
      "metadata": {
        "id": "view-in-github",
        "colab_type": "text"
      },
      "source": [
        "<a href=\"https://colab.research.google.com/github/satogen/datascience_tips/blob/main/table/%E3%83%86%E3%83%BC%E3%83%96%E3%83%AB%E3%82%B3%E3%83%B3%E3%83%9A%E3%83%99%E3%83%BC%E3%82%B9%E3%83%A9%E3%82%A4%E3%83%B3.ipynb\" target=\"_parent\"><img src=\"https://colab.research.google.com/assets/colab-badge.svg\" alt=\"Open In Colab\"/></a>"
      ]
    },
    {
      "cell_type": "code",
      "execution_count": 1,
      "metadata": {
        "colab": {
          "base_uri": "https://localhost:8080/"
        },
        "id": "Lczw34YWco0N",
        "outputId": "1005dca9-3ebc-49c8-b3df-e0bd2cb64cb2"
      },
      "outputs": [
        {
          "output_type": "stream",
          "name": "stdout",
          "text": [
            "Looking in indexes: https://pypi.org/simple, https://us-python.pkg.dev/colab-wheels/public/simple/\n",
            "Requirement already satisfied: xfeat in /usr/local/lib/python3.7/dist-packages (0.1.1)\n",
            "Requirement already satisfied: optuna>=1.3.0 in /usr/local/lib/python3.7/dist-packages (from xfeat) (2.10.1)\n",
            "Requirement already satisfied: lightgbm in /usr/local/lib/python3.7/dist-packages (from xfeat) (3.3.2)\n",
            "Requirement already satisfied: pyarrow in /usr/local/lib/python3.7/dist-packages (from xfeat) (6.0.1)\n",
            "Requirement already satisfied: scikit-learn in /usr/local/lib/python3.7/dist-packages (from xfeat) (1.0.2)\n",
            "Requirement already satisfied: ml-metrics in /usr/local/lib/python3.7/dist-packages (from xfeat) (0.1.4)\n",
            "Requirement already satisfied: PyYAML in /usr/local/lib/python3.7/dist-packages (from xfeat) (3.13)\n",
            "Requirement already satisfied: sqlalchemy>=1.1.0 in /usr/local/lib/python3.7/dist-packages (from optuna>=1.3.0->xfeat) (1.4.39)\n",
            "Requirement already satisfied: alembic in /usr/local/lib/python3.7/dist-packages (from optuna>=1.3.0->xfeat) (1.8.1)\n",
            "Requirement already satisfied: colorlog in /usr/local/lib/python3.7/dist-packages (from optuna>=1.3.0->xfeat) (6.6.0)\n",
            "Requirement already satisfied: cliff in /usr/local/lib/python3.7/dist-packages (from optuna>=1.3.0->xfeat) (3.10.1)\n",
            "Requirement already satisfied: scipy!=1.4.0 in /usr/local/lib/python3.7/dist-packages (from optuna>=1.3.0->xfeat) (1.7.3)\n",
            "Requirement already satisfied: tqdm in /usr/local/lib/python3.7/dist-packages (from optuna>=1.3.0->xfeat) (4.64.0)\n",
            "Requirement already satisfied: packaging>=20.0 in /usr/local/lib/python3.7/dist-packages (from optuna>=1.3.0->xfeat) (21.3)\n",
            "Requirement already satisfied: cmaes>=0.8.2 in /usr/local/lib/python3.7/dist-packages (from optuna>=1.3.0->xfeat) (0.8.2)\n",
            "Requirement already satisfied: numpy in /usr/local/lib/python3.7/dist-packages (from optuna>=1.3.0->xfeat) (1.21.6)\n",
            "Requirement already satisfied: pyparsing!=3.0.5,>=2.0.2 in /usr/local/lib/python3.7/dist-packages (from packaging>=20.0->optuna>=1.3.0->xfeat) (3.0.9)\n",
            "Requirement already satisfied: importlib-metadata in /usr/local/lib/python3.7/dist-packages (from sqlalchemy>=1.1.0->optuna>=1.3.0->xfeat) (4.12.0)\n",
            "Requirement already satisfied: greenlet!=0.4.17 in /usr/local/lib/python3.7/dist-packages (from sqlalchemy>=1.1.0->optuna>=1.3.0->xfeat) (1.1.2)\n",
            "Requirement already satisfied: importlib-resources in /usr/local/lib/python3.7/dist-packages (from alembic->optuna>=1.3.0->xfeat) (5.9.0)\n",
            "Requirement already satisfied: Mako in /usr/local/lib/python3.7/dist-packages (from alembic->optuna>=1.3.0->xfeat) (1.2.1)\n",
            "Requirement already satisfied: autopage>=0.4.0 in /usr/local/lib/python3.7/dist-packages (from cliff->optuna>=1.3.0->xfeat) (0.5.1)\n",
            "Requirement already satisfied: cmd2>=1.0.0 in /usr/local/lib/python3.7/dist-packages (from cliff->optuna>=1.3.0->xfeat) (2.4.2)\n",
            "Requirement already satisfied: stevedore>=2.0.1 in /usr/local/lib/python3.7/dist-packages (from cliff->optuna>=1.3.0->xfeat) (3.5.0)\n",
            "Requirement already satisfied: PrettyTable>=0.7.2 in /usr/local/lib/python3.7/dist-packages (from cliff->optuna>=1.3.0->xfeat) (3.3.0)\n",
            "Requirement already satisfied: pbr!=2.1.0,>=2.0.0 in /usr/local/lib/python3.7/dist-packages (from cliff->optuna>=1.3.0->xfeat) (5.9.0)\n",
            "Requirement already satisfied: attrs>=16.3.0 in /usr/local/lib/python3.7/dist-packages (from cmd2>=1.0.0->cliff->optuna>=1.3.0->xfeat) (21.4.0)\n",
            "Requirement already satisfied: pyperclip>=1.6 in /usr/local/lib/python3.7/dist-packages (from cmd2>=1.0.0->cliff->optuna>=1.3.0->xfeat) (1.8.2)\n",
            "Requirement already satisfied: typing-extensions in /usr/local/lib/python3.7/dist-packages (from cmd2>=1.0.0->cliff->optuna>=1.3.0->xfeat) (4.1.1)\n",
            "Requirement already satisfied: wcwidth>=0.1.7 in /usr/local/lib/python3.7/dist-packages (from cmd2>=1.0.0->cliff->optuna>=1.3.0->xfeat) (0.2.5)\n",
            "Requirement already satisfied: zipp>=0.5 in /usr/local/lib/python3.7/dist-packages (from importlib-metadata->sqlalchemy>=1.1.0->optuna>=1.3.0->xfeat) (3.8.1)\n",
            "Requirement already satisfied: wheel in /usr/local/lib/python3.7/dist-packages (from lightgbm->xfeat) (0.37.1)\n",
            "Requirement already satisfied: threadpoolctl>=2.0.0 in /usr/local/lib/python3.7/dist-packages (from scikit-learn->xfeat) (3.1.0)\n",
            "Requirement already satisfied: joblib>=0.11 in /usr/local/lib/python3.7/dist-packages (from scikit-learn->xfeat) (1.1.0)\n",
            "Requirement already satisfied: MarkupSafe>=0.9.2 in /usr/local/lib/python3.7/dist-packages (from Mako->alembic->optuna>=1.3.0->xfeat) (2.0.1)\n",
            "Requirement already satisfied: pandas in /usr/local/lib/python3.7/dist-packages (from ml-metrics->xfeat) (1.3.5)\n",
            "Requirement already satisfied: python-dateutil>=2.7.3 in /usr/local/lib/python3.7/dist-packages (from pandas->ml-metrics->xfeat) (2.8.2)\n",
            "Requirement already satisfied: pytz>=2017.3 in /usr/local/lib/python3.7/dist-packages (from pandas->ml-metrics->xfeat) (2022.1)\n",
            "Requirement already satisfied: six>=1.5 in /usr/local/lib/python3.7/dist-packages (from python-dateutil>=2.7.3->pandas->ml-metrics->xfeat) (1.15.0)\n"
          ]
        }
      ],
      "source": [
        "!pip install xfeat"
      ]
    },
    {
      "cell_type": "code",
      "source": [
        "# !pip install -U lightgbm"
      ],
      "metadata": {
        "id": "A08u9IDHDdvW"
      },
      "execution_count": null,
      "outputs": []
    },
    {
      "cell_type": "code",
      "source": [
        "from functools import partial\n",
        "import pandas as pd\n",
        "import numpy as np\n",
        "import seaborn as sns\n",
        "import xfeat\n",
        "import lightgbm as lgb\n",
        "import optuna\n",
        "from sklearn.metrics import mean_squared_error\n",
        "from sklearn.model_selection import KFold\n",
        "from sklearn.model_selection import train_test_split\n",
        "import matplotlib.pyplot as plt\n"
      ],
      "metadata": {
        "id": "XPQN1Q9Gn3Ym"
      },
      "execution_count": 2,
      "outputs": []
    },
    {
      "cell_type": "markdown",
      "source": [
        "## 基本設定"
      ],
      "metadata": {
        "id": "iGEtFgpSoAer"
      }
    },
    {
      "cell_type": "code",
      "source": [
        "class CFG:\n",
        "  ## データフレーム情報\n",
        "  TrainDataPath = False\n",
        "  TestDataPath = False\n",
        "  TargetCol = \"price\"\n",
        "\n",
        "  ## 前処理の設定\n",
        "  CatPattern = 2\n",
        "  NumPatter = 2\n",
        "\n",
        "  ## クロスバリデーション\n",
        "  KFold = 5"
      ],
      "metadata": {
        "id": "2HB1NVnGoAqH"
      },
      "execution_count": 3,
      "outputs": []
    },
    {
      "cell_type": "markdown",
      "source": [
        "## データセットの読み込み"
      ],
      "metadata": {
        "id": "fFEHC0s9n-a5"
      }
    },
    {
      "cell_type": "code",
      "source": [
        "# データセットを読み込む\n",
        "if CFG.TrainDataPath:\n",
        "  df = pd.read_csv(CFG.DataPath)\n",
        "  train_len = len(df)\n",
        "else:\n",
        "  df = sns.load_dataset('diamonds')\n",
        "\n",
        "if CFG.TestDataPath:\n",
        "  test_df = pd.read_csv(CFG.TestDataPath)\n",
        "  df = pd.concat([df, test_df], axis=0)"
      ],
      "metadata": {
        "id": "krcCWzc4nwZv"
      },
      "execution_count": 4,
      "outputs": []
    },
    {
      "cell_type": "markdown",
      "source": [
        "## 各カラム情報の抽出\n",
        "- カテゴリ変数\n",
        "- 量的変数\n",
        "- 目的変数"
      ],
      "metadata": {
        "id": "zmePehcPoWG1"
      }
    },
    {
      "cell_type": "code",
      "source": [
        "categorical_cols = xfeat.SelectCategorical().fit_transform(df.drop(CFG.TargetCol, axis=1)).columns.tolist()\n",
        "print(f\"Category Cols: {categorical_cols}\")\n",
        "\n",
        "numerical_cols = xfeat.SelectNumerical().fit_transform(df.drop(CFG.TargetCol, axis=1)).columns.tolist()\n",
        "print(f\"Numerical Cols: {numerical_cols}\")\n",
        "\n",
        "print(f\"Target Col: {CFG.TargetCol}\")"
      ],
      "metadata": {
        "colab": {
          "base_uri": "https://localhost:8080/"
        },
        "id": "zUiemWsRoTZN",
        "outputId": "dcc615f3-e887-4d1c-e76c-6f78bb5503c0"
      },
      "execution_count": 5,
      "outputs": [
        {
          "output_type": "stream",
          "name": "stdout",
          "text": [
            "Category Cols: ['cut', 'color', 'clarity']\n",
            "Numerical Cols: ['carat', 'depth', 'table', 'x', 'y', 'z']\n",
            "Target Col: price\n"
          ]
        }
      ]
    },
    {
      "cell_type": "markdown",
      "source": [
        "## 前処理"
      ],
      "metadata": {
        "id": "zUnx-sWQqjGo"
      }
    },
    {
      "cell_type": "markdown",
      "source": [
        "## 日付時間の処理"
      ],
      "metadata": {
        "id": "hqZp5mW6Sk06"
      }
    },
    {
      "cell_type": "code",
      "source": [
        "# import jpholiday\n",
        "# import datetime as dt\n",
        "\n",
        "# df_train['datetime'] = pd.to_datetime(df_train['datetime']) # dtype を datetime64 に変換\n",
        "# df_train['year'] = df_train['datetime'].dt.year\n",
        "# df_train['month'] = df_train['datetime'].dt.month\n",
        "# df_train['day'] = df_train['datetime'].dt.day\n",
        "# df_train['dayofweek'] = df_train['datetime'].dt.dayofweek\n",
        "# df_train['hour'] = df_train['datetime'].dt.hour\n",
        "# df_train['minute'] = df_train['datetime'].dt.minute\n",
        "# df_train['second'] = df_train['datetime'].dt.second\n",
        "# df_train['is_holiday'] = df_train['datetime'].map(jpholiday.is_holiday).astype(int)\n",
        "\n",
        "# https://qiita.com/TaigoKuriyama/items/8f9286b5c882819adebb より"
      ],
      "metadata": {
        "id": "BEsxa4zuSluL"
      },
      "execution_count": 1,
      "outputs": []
    },
    {
      "cell_type": "code",
      "source": [
        "# カテゴリ変数をstrに変換 fillna 対策\n",
        "df = df.astype({\n",
        "    cat_col: str for cat_col in categorical_cols\n",
        "})\n",
        "\n",
        "# カテゴリ変数の前処理\n",
        "pipe = xfeat.Pipeline([\n",
        "    # カテゴリ変数を選択\n",
        "    xfeat.SelectCategorical(),\n",
        "    # カテゴリ同士の組み合わせ CFGで設定可能\n",
        "    xfeat.ConcatCombination(r=CFG.CatPattern),\n",
        "    # ラベルエンコード\n",
        "    xfeat.LabelEncoder(output_suffix=''),\n",
        "])\n",
        "\n",
        "cat_df = pipe.fit_transform(df)\n",
        "\n",
        "print(f\"Category Cols Create: {len(categorical_cols)} >> {len(cat_df.columns.tolist())}\")\n",
        "categorical_cols = cat_df.columns.tolist()\n",
        "\n",
        "print(f\"Now Category Cols: {categorical_cols}\")\n",
        "\n",
        "for cat in categorical_cols:\n",
        "  plt.hist(cat_df[cat])\n",
        "  plt.title(f\"Category {cat}\") \n",
        "  plt.show()"
      ],
      "metadata": {
        "colab": {
          "base_uri": "https://localhost:8080/",
          "height": 1000
        },
        "id": "stuuDyEFpMC9",
        "outputId": "5c07d4de-7225-4333-d8e5-8468fb73a0b9"
      },
      "execution_count": 6,
      "outputs": [
        {
          "output_type": "stream",
          "name": "stdout",
          "text": [
            "Category Cols Create: 3 >> 6\n",
            "Now Category Cols: ['cut', 'color', 'clarity', 'cutcolor_combi', 'cutclarity_combi', 'colorclarity_combi']\n"
          ]
        },
        {
          "output_type": "display_data",
          "data": {
            "text/plain": [
              "<Figure size 432x288 with 1 Axes>"
            ],
            "image/png": "[encoded data removed]"
          },
          "metadata": {
            "needs_background": "light"
          }
        },
        {
          "output_type": "display_data",
          "data": {
            "text/plain": [
              "<Figure size 432x288 with 1 Axes>"
            ],
            "image/png": "[encoded data removed]"
          },
          "metadata": {
            "needs_background": "light"
          }
        },
        {
          "output_type": "display_data",
          "data": {
            "text/plain": [
              "<Figure size 432x288 with 1 Axes>"
            ],
            "image/png": "[encoded data removed]"
          },
          "metadata": {
            "needs_background": "light"
          }
        },
        {
          "output_type": "display_data",
          "data": {
            "text/plain": [
              "<Figure size 432x288 with 1 Axes>"
            ],
            "image/png": "[encoded data removed]"
          },
          "metadata": {
            "needs_background": "light"
          }
        },
        {
          "output_type": "display_data",
          "data": {
            "text/plain": [
              "<Figure size 432x288 with 1 Axes>"
            ],
            "image/png": "[encoded data removed]"
          },
          "metadata": {
            "needs_background": "light"
          }
        },
        {
          "output_type": "display_data",
          "data": {
            "text/plain": [
              "<Figure size 432x288 with 1 Axes>"
            ],
            "image/png": "[encoded data removed]"
          },
          "metadata": {
            "needs_background": "light"
          }
        }
      ]
    },
    {
      "cell_type": "code",
      "source": [
        "# 元のデータフレームと結合する\n",
        "df = pd.concat([cat_df, df[numerical_cols + [CFG.TargetCol] ]], axis=1)"
      ],
      "metadata": {
        "id": "HcssI3jvrNfx"
      },
      "execution_count": 7,
      "outputs": []
    },
    {
      "cell_type": "code",
      "source": [
        "# カテゴリ変数を中心にした集約特徴量\n",
        "for cat_col in categorical_cols:\n",
        "    df, _ = xfeat.aggregation(df,\n",
        "                              group_key=cat_col,\n",
        "                              group_values=numerical_cols,\n",
        "                              agg_methods=[\n",
        "                                  'sum',\n",
        "                                  'min',\n",
        "                                  'max',\n",
        "                                  'mean',\n",
        "                                  'median',\n",
        "                                  'std'\n",
        "                              ],\n",
        "                              )"
      ],
      "metadata": {
        "id": "we6f8_P7rsP4"
      },
      "execution_count": 8,
      "outputs": []
    },
    {
      "cell_type": "code",
      "source": [
        "print(f'add aggregation features: {len(df.columns)}')"
      ],
      "metadata": {
        "colab": {
          "base_uri": "https://localhost:8080/"
        },
        "id": "Rprvo04dvWZ6",
        "outputId": "ba5e005a-58fa-4725-9132-3e7e90fe3e39"
      },
      "execution_count": 9,
      "outputs": [
        {
          "output_type": "stream",
          "name": "stdout",
          "text": [
            "add aggregation features: 229\n"
          ]
        }
      ]
    },
    {
      "cell_type": "markdown",
      "source": [
        "### 量的変数の拡張"
      ],
      "metadata": {
        "id": "U1EKaiblxdJh"
      }
    },
    {
      "cell_type": "code",
      "source": [
        "if not CFG.TestDataPath:\n",
        "  # テストデータがない時\n",
        "  train_df, test_df = train_test_split(df,\n",
        "                                        test_size=0.35,\n",
        "                                        shuffle=True,\n",
        "                                        random_state=42)\n",
        "  \n",
        "\n",
        "folds = KFold(n_splits=CFG.KFold,\n",
        "              shuffle=True,\n",
        "              random_state=42)\n",
        "\n",
        "pipe = xfeat.Pipeline([\n",
        "    # カウントエンコード\n",
        "    xfeat.CountEncoder(input_cols=categorical_cols),\n",
        "\n",
        "    # ターゲットエンコード\n",
        "    xfeat.TargetEncoder(input_cols=categorical_cols,\n",
        "                        target_col=CFG.TargetCol,\n",
        "                        fold=folds),\n",
        "                       \n",
        "    # 量的変数の組み合わせ特徴量\n",
        "    xfeat.ArithmeticCombinations(input_cols=numerical_cols,\n",
        "                                  operator='+',\n",
        "                                  r=CFG.NumPatter,\n",
        "                                  output_suffix='_plus'),\n",
        "                       \n",
        "    xfeat.ArithmeticCombinations(input_cols=numerical_cols,\n",
        "                                  operator='*',\n",
        "                                  r=CFG.NumPatter,\n",
        "                                  output_suffix='_mul'),\n",
        "                       \n",
        "    xfeat.ArithmeticCombinations(input_cols=numerical_cols,\n",
        "                                  operator='-',\n",
        "                                  r=CFG.NumPatter,\n",
        "                                  output_suffix='_minus'),\n",
        "                       \n",
        "    xfeat.ArithmeticCombinations(input_cols=numerical_cols,\n",
        "                                  operator='/',\n",
        "                                  r=CFG.NumPatter,\n",
        "                                  output_suffix='_div'),\n",
        "])\n",
        "\n",
        "train_df = pipe.fit_transform(train_df)\n",
        "test_df = pipe.transform(test_df)\n",
        "\n",
        "print(f'add some features: {len(train_df.columns)}')"
      ],
      "metadata": {
        "colab": {
          "base_uri": "https://localhost:8080/"
        },
        "id": "ANOMFiJcvbkI",
        "outputId": "181322d8-a9f3-491c-842d-8d95c67c2358"
      },
      "execution_count": 10,
      "outputs": [
        {
          "output_type": "stream",
          "name": "stdout",
          "text": [
            "add some features: 301\n"
          ]
        }
      ]
    },
    {
      "cell_type": "markdown",
      "source": [
        "## 学習"
      ],
      "metadata": {
        "id": "ONuWhb5qBSzg"
      }
    },
    {
      "cell_type": "code",
      "source": [
        "def _lgbm_cv(train_x, train_y):\n",
        "    \"\"\"LightGBM を使った交差検証のヘルパー関数\"\"\"\n",
        "    lgbm_params = {\n",
        "        'objective': 'regression',\n",
        "        'metric': 'rmse',\n",
        "        'verbosity': -1,\n",
        "    }\n",
        "    train_dataset = lgb.Dataset(data=train_x,\n",
        "                                label=train_y)\n",
        "    folds = KFold(n_splits=5,\n",
        "                  shuffle=True,\n",
        "                  random_state=42)\n",
        "    cv_result = lgb.cv(lgbm_params,\n",
        "                       train_dataset,\n",
        "                       num_boost_round=1_000,\n",
        "                       folds=folds,\n",
        "                       return_cvbooster=True,\n",
        "                       )\n",
        "    return cv_result\n",
        "\n",
        "\n",
        "def _rmse(y_true, y_pred):\n",
        "    \"\"\"RMSE を計算するヘルパー関数\"\"\"\n",
        "    mse = mean_squared_error(y_true, y_pred)\n",
        "    rmse = np.sqrt(mse)\n",
        "    return rmse\n",
        "\n",
        "\n",
        "def _evaluate(train_x, train_y, test_x, test_y):\n",
        "    \"\"\"学習用データの CV とテストデータの誤差を確認するヘルパー関数\"\"\"\n",
        "    cv_result = _lgbm_cv(train_x, train_y)\n",
        "\n",
        "    cv_rmse_mean = cv_result['rmse-mean'][-1]\n",
        "    print(f'CV RMSE: {cv_rmse_mean}')\n",
        "\n",
        "    cvbooster = cv_result['cvbooster']\n",
        "    y_preds = cvbooster.predict(test_x)\n",
        "    y_pred = np.mean(y_preds, axis=0)\n",
        "    test_rmse = _rmse(y_pred, test_y)\n",
        "    print(f'Test RMSE: {test_rmse}')\n",
        "\n",
        "def objective(df, selector, trial):\n",
        "    \"\"\"Optuna の目的関数\"\"\"\n",
        "    # 次に試行する特徴量の組み合わせを得る\n",
        "    selector.set_trial(trial)\n",
        "    selector.fit(df)\n",
        "    input_cols = selector.get_selected_cols()\n",
        "\n",
        "    # 選択された特徴量から得られる Local CV のスコアを計算する\n",
        "    train_x = df[input_cols].drop(['price'], axis=1)\n",
        "    train_y = df['price']\n",
        "    cv_result = _lgbm_cv(train_x, train_y)\n",
        "    # スコアの平均を返す\n",
        "    mean_score = cv_result['rmse-mean'][-1]\n",
        "    return mean_score"
      ],
      "metadata": {
        "id": "avXgvLXFxAqy"
      },
      "execution_count": 11,
      "outputs": []
    },
    {
      "cell_type": "code",
      "source": [
        "# 選択前のスコアを計算しておく\n",
        "train_x, train_y = train_df.drop(CFG.TargetCol, axis=1), train_df[CFG.TargetCol]\n",
        "test_x, test_y = test_df.drop(CFG.TargetCol, axis=1), test_df[CFG.TargetCol]\n",
        "_evaluate(train_x, train_y, test_x, test_y)"
      ],
      "metadata": {
        "colab": {
          "base_uri": "https://localhost:8080/"
        },
        "id": "hyj1_SjjxBt8",
        "outputId": "b49438e2-f066-4e83-80d8-b6d7cd116c31"
      },
      "execution_count": 16,
      "outputs": [
        {
          "output_type": "stream",
          "name": "stdout",
          "text": [
            "CV RMSE: 544.3920237355757\n",
            "Test RMSE: 515.0921902775127\n"
          ]
        }
      ]
    },
    {
      "cell_type": "code",
      "source": [
        "# 学習用データセットを使って特徴量選択をする\n",
        "lgbm_params = {\n",
        "    'objective': 'regression',\n",
        "    'metric': 'rmse',\n",
        "    'verbosity': -1,\n",
        "}\n",
        "fit_params = {\n",
        "    'num_boost_round': 1_000,\n",
        "}\n",
        "selector = xfeat.GBDTFeatureExplorer(input_cols=train_df.columns.tolist(),\n",
        "                                      target_col=CFG.TargetCol,\n",
        "                                      fit_once=True,\n",
        "                                      threshold_range=(0.1, 1.0),\n",
        "                                      lgbm_params=lgbm_params,\n",
        "                                      lgbm_fit_kwargs=fit_params,\n",
        "                                      )\n",
        "\n",
        "# メトリックのスコアが良くなる特徴量の組み合わせを探索する\n",
        "study = optuna.create_study(direction='minimize')\n",
        "# 最適化する\n",
        "study.optimize(partial(objective, train_df, selector),\n",
        "                n_trials=10,\n",
        "                )\n",
        "\n",
        "# 探索で見つかった最善の組み合わせを取り出す\n",
        "selector.from_trial(study.best_trial)\n",
        "selected_cols = selector.get_selected_cols()\n",
        "\n",
        "# 特徴量の数をどれだけ減らせたか\n",
        "print(f'selected features: {len(selected_cols)}')\n",
        "\n",
        "# 選択後のスコアを計算する\n",
        "train_x = train_df[selected_cols].drop(CFG.TargetCol, axis=1)\n",
        "test_x = test_df[selected_cols].drop(CFG.TargetCol, axis=1)\n",
        "_evaluate(train_x, train_y, test_x, test_y)"
      ],
      "metadata": {
        "colab": {
          "base_uri": "https://localhost:8080/"
        },
        "id": "0EGbDPhJyYSb",
        "outputId": "dd77a65a-5490-4ebf-ea00-93422616316a"
      },
      "execution_count": 17,
      "outputs": [
        {
          "output_type": "stream",
          "name": "stderr",
          "text": [
            "\u001b[32m[I 2022-07-29 08:23:41,487]\u001b[0m A new study created in memory with name: no-name-50ae1566-a3c6-40b5-994e-b8b465bb0f8c\u001b[0m\n",
            "\u001b[32m[I 2022-07-29 08:26:31,396]\u001b[0m Trial 0 finished with value: 543.4549180356445 and parameters: {'GBDTFeatureSelector.threshold': 0.5940921574533661}. Best is trial 0 with value: 543.4549180356445.\u001b[0m\n",
            "\u001b[32m[I 2022-07-29 08:27:08,921]\u001b[0m Trial 1 finished with value: 589.085819767142 and parameters: {'GBDTFeatureSelector.threshold': 0.15697669078686557}. Best is trial 0 with value: 543.4549180356445.\u001b[0m\n",
            "\u001b[32m[I 2022-07-29 08:27:42,680]\u001b[0m Trial 2 finished with value: 913.2215979827158 and parameters: {'GBDTFeatureSelector.threshold': 0.13467816475453698}. Best is trial 0 with value: 543.4549180356445.\u001b[0m\n",
            "\u001b[32m[I 2022-07-29 08:28:33,347]\u001b[0m Trial 3 finished with value: 582.5741666754269 and parameters: {'GBDTFeatureSelector.threshold': 0.22258397819330417}. Best is trial 0 with value: 543.4549180356445.\u001b[0m\n",
            "\u001b[32m[I 2022-07-29 08:29:55,077]\u001b[0m Trial 4 finished with value: 540.970663501301 and parameters: {'GBDTFeatureSelector.threshold': 0.42965625883484504}. Best is trial 4 with value: 540.970663501301.\u001b[0m\n",
            "\u001b[32m[I 2022-07-29 08:31:11,563]\u001b[0m Trial 5 finished with value: 542.7069197103112 and parameters: {'GBDTFeatureSelector.threshold': 0.3854974427975545}. Best is trial 4 with value: 540.970663501301.\u001b[0m\n",
            "\u001b[32m[I 2022-07-29 08:33:39,604]\u001b[0m Trial 6 finished with value: 545.9643925823527 and parameters: {'GBDTFeatureSelector.threshold': 0.8451923487877937}. Best is trial 4 with value: 540.970663501301.\u001b[0m\n",
            "\u001b[32m[I 2022-07-29 08:35:48,270]\u001b[0m Trial 7 finished with value: 546.1158428406835 and parameters: {'GBDTFeatureSelector.threshold': 0.7259531003924697}. Best is trial 4 with value: 540.970663501301.\u001b[0m\n",
            "\u001b[32m[I 2022-07-29 08:37:46,792]\u001b[0m Trial 8 finished with value: 544.0686679976073 and parameters: {'GBDTFeatureSelector.threshold': 0.6588012819238602}. Best is trial 4 with value: 540.970663501301.\u001b[0m\n",
            "\u001b[32m[I 2022-07-29 08:38:50,672]\u001b[0m Trial 9 finished with value: 544.6283607517265 and parameters: {'GBDTFeatureSelector.threshold': 0.294803082511909}. Best is trial 4 with value: 540.970663501301.\u001b[0m\n"
          ]
        },
        {
          "output_type": "stream",
          "name": "stdout",
          "text": [
            "selected features: 88\n",
            "CV RMSE: 544.6283607517265\n",
            "Test RMSE: 515.3024435362905\n"
          ]
        }
      ]
    },
    {
      "cell_type": "code",
      "source": [
        ""
      ],
      "metadata": {
        "id": "g290_u6D--eQ"
      },
      "execution_count": null,
      "outputs": []
    }
  ]
}
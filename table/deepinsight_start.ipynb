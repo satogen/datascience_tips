{
  "nbformat": 4,
  "nbformat_minor": 0,
  "metadata": {
    "colab": {
      "name": "deepinsight-start.ipynb",
      "provenance": [],
      "collapsed_sections": []
    },
    "kernelspec": {
      "name": "python3",
      "display_name": "Python 3"
    },
    "language_info": {
      "name": "python"
    },
    "accelerator": "GPU",
    "gpuClass": "standard"
  },
  "cells": [
    {
      "cell_type": "code",
      "execution_count": 1,
      "metadata": {
        "id": "RlFtvx1HHqSh"
      },
      "outputs": [],
      "source": [
        "import sys\n",
        "# if kernel_mode:\n",
        "#     sys.path.insert(0, \"../input/iterative-stratification\")\n",
        "\n",
        "import os\n",
        "import numpy as np\n",
        "import pandas as pd\n",
        "import time\n",
        "import random\n",
        "import math\n",
        "\n",
        "import matplotlib\n",
        "import matplotlib.pyplot as plt\n",
        "\n",
        "pd.options.display.max_columns = None\n",
        "\n",
        "# from iterstrat.ml_stratifiers import MultilabelStratifiedKFold\n",
        "\n",
        "from sklearn.manifold import TSNE\n",
        "\n",
        "import seaborn as sns\n",
        "sns.set(style=\"darkgrid\")\n",
        "\n",
        "import gc\n",
        "gc.enable()\n",
        "\n",
        "rand_seed = 1120\n",
        "from sklearn.datasets import load_breast_cancer\n",
        "from sklearn.model_selection import train_test_split\n",
        "from tensorflow.keras.utils import to_categorical\n"
      ]
    },
    {
      "cell_type": "code",
      "source": [
        "\n",
        "import numpy as np\n",
        "import pandas as pd\n",
        "from sklearn.decomposition import PCA, KernelPCA\n",
        "from sklearn.manifold import TSNE\n",
        "from scipy.spatial import ConvexHull\n",
        "from matplotlib import pyplot as plt\n",
        "import inspect\n",
        "\n",
        "\n",
        "class DeepInsightTransformer:\n",
        "    \"\"\"Transform features to an image matrix using dimensionality reduction\n",
        "\n",
        "    This class takes in data normalized between 0 and 1 and converts it to a\n",
        "    CNN compatible 'image' matrix\n",
        "\n",
        "    \"\"\"\n",
        "    def __init__(self,\n",
        "                 feature_extractor='tsne',\n",
        "                 perplexity=30,\n",
        "                 pixels=100,\n",
        "                 random_state=None,\n",
        "                 n_jobs=None):\n",
        "        \"\"\"Generate an ImageTransformer instance\n",
        "\n",
        "        Args:\n",
        "            feature_extractor: string of value ('tsne', 'pca', 'kpca') or a\n",
        "                class instance with method `fit_transform` that returns a\n",
        "                2-dimensional array of extracted features.\n",
        "            pixels: int (square matrix) or tuple of ints (height, width) that\n",
        "                defines the size of the image matrix.\n",
        "            random_state: int or RandomState. Determines the random number\n",
        "                generator, if present, of a string defined feature_extractor.\n",
        "            n_jobs: The number of parallel jobs to run for a string defined\n",
        "                feature_extractor.\n",
        "        \"\"\"\n",
        "        self.random_state = random_state\n",
        "        self.n_jobs = n_jobs\n",
        "\n",
        "        if isinstance(feature_extractor, str):\n",
        "            fe = feature_extractor.casefold()\n",
        "            if fe == 'tsne_exact'.casefold():\n",
        "                fe = TSNE(n_components=2,\n",
        "                          metric='cosine',\n",
        "                          perplexity=perplexity,\n",
        "                          n_iter=1000,\n",
        "                          method='exact',\n",
        "                          random_state=self.random_state,\n",
        "                          n_jobs=self.n_jobs)\n",
        "            elif fe == 'tsne'.casefold():\n",
        "                fe = TSNE(n_components=2,\n",
        "                          metric='cosine',\n",
        "                          perplexity=perplexity,\n",
        "                          n_iter=1000,\n",
        "                          method='barnes_hut',\n",
        "                          random_state=self.random_state,\n",
        "                          n_jobs=self.n_jobs)\n",
        "            elif fe == 'pca'.casefold():\n",
        "                fe = PCA(n_components=2, random_state=self.random_state)\n",
        "            elif fe == 'kpca'.casefold():\n",
        "                fe = KernelPCA(n_components=2,\n",
        "                               kernel='rbf',\n",
        "                               random_state=self.random_state,\n",
        "                               n_jobs=self.n_jobs)\n",
        "            else:\n",
        "                raise ValueError((\"Feature extraction method '{}' not accepted\"\n",
        "                                  ).format(feature_extractor))\n",
        "            self._fe = fe\n",
        "        elif hasattr(feature_extractor, 'fit_transform') and \\\n",
        "                inspect.ismethod(feature_extractor.fit_transform):\n",
        "            self._fe = feature_extractor\n",
        "        else:\n",
        "            raise TypeError('Parameter feature_extractor is not a '\n",
        "                            'string nor has method \"fit_transform\"')\n",
        "\n",
        "        if isinstance(pixels, int):\n",
        "            pixels = (pixels, pixels)\n",
        "\n",
        "        # The resolution of transformed image\n",
        "        self._pixels = pixels\n",
        "        self._xrot = None\n",
        "\n",
        "    def fit(self, X, y=None, plot=False):\n",
        "        \"\"\"Train the image transformer from the training set (X)\n",
        "\n",
        "        Args:\n",
        "            X: {array-like, sparse matrix} of shape (n_samples, n_features)\n",
        "            y: Ignored. Present for continuity with scikit-learn\n",
        "            plot: boolean of whether to produce a scatter plot showing the\n",
        "                feature reduction, hull points, and minimum bounding rectangle\n",
        "\n",
        "        Returns:\n",
        "            self: object\n",
        "        \"\"\"\n",
        "        # Transpose to get (n_features, n_samples)\n",
        "        X = X.T\n",
        "\n",
        "        # Perform dimensionality reduction\n",
        "        x_new = self._fe.fit_transform(X)\n",
        "\n",
        "        # Get the convex hull for the points\n",
        "        chvertices = ConvexHull(x_new).vertices\n",
        "        hull_points = x_new[chvertices]\n",
        "\n",
        "        # Determine the minimum bounding rectangle\n",
        "        mbr, mbr_rot = self._minimum_bounding_rectangle(hull_points)\n",
        "\n",
        "        # Rotate the matrix\n",
        "        # Save the rotated matrix in case user wants to change the pixel size\n",
        "        self._xrot = np.dot(mbr_rot, x_new.T).T\n",
        "\n",
        "        # Determine feature coordinates based on pixel dimension\n",
        "        self._calculate_coords()\n",
        "\n",
        "        # plot rotation diagram if requested\n",
        "        if plot is True:\n",
        "            # Create subplots\n",
        "            fig, ax = plt.subplots(1, 1, figsize=(10, 7), squeeze=False)\n",
        "            ax[0, 0].scatter(x_new[:, 0],\n",
        "                             x_new[:, 1],\n",
        "                             cmap=plt.cm.get_cmap(\"jet\", 10),\n",
        "                             marker=\"x\",\n",
        "                             alpha=1.0)\n",
        "            ax[0, 0].fill(x_new[chvertices, 0],\n",
        "                          x_new[chvertices, 1],\n",
        "                          edgecolor='r',\n",
        "                          fill=False)\n",
        "            ax[0, 0].fill(mbr[:, 0], mbr[:, 1], edgecolor='g', fill=False)\n",
        "            plt.gca().set_aspect('equal', adjustable='box')\n",
        "            plt.show()\n",
        "        return self\n",
        "\n",
        "    @property\n",
        "    def pixels(self):\n",
        "        \"\"\"The image matrix dimensions\n",
        "\n",
        "        Returns:\n",
        "            tuple: the image matrix dimensions (height, width)\n",
        "\n",
        "        \"\"\"\n",
        "        return self._pixels\n",
        "\n",
        "    @pixels.setter\n",
        "    def pixels(self, pixels):\n",
        "        \"\"\"Set the image matrix dimension\n",
        "\n",
        "        Args:\n",
        "            pixels: int or tuple with the dimensions (height, width)\n",
        "            of the image matrix\n",
        "\n",
        "        \"\"\"\n",
        "        if isinstance(pixels, int):\n",
        "            pixels = (pixels, pixels)\n",
        "        self._pixels = pixels\n",
        "        # recalculate coordinates if already fit\n",
        "        if hasattr(self, '_coords'):\n",
        "            self._calculate_coords()\n",
        "\n",
        "    def _calculate_coords(self):\n",
        "        \"\"\"Calculate the matrix coordinates of each feature based on the\n",
        "        pixel dimensions.\n",
        "        \"\"\"\n",
        "        ax0_coord = np.digitize(self._xrot[:, 0],\n",
        "                                bins=np.linspace(min(self._xrot[:, 0]),\n",
        "                                                 max(self._xrot[:, 0]),\n",
        "                                                 self._pixels[0])) - 1\n",
        "        ax1_coord = np.digitize(self._xrot[:, 1],\n",
        "                                bins=np.linspace(min(self._xrot[:, 1]),\n",
        "                                                 max(self._xrot[:, 1]),\n",
        "                                                 self._pixels[1])) - 1\n",
        "        self._coords = np.stack((ax0_coord, ax1_coord))\n",
        "\n",
        "    def transform(self, X, empty_value=0):\n",
        "        \"\"\"Transform the input matrix into image matrices\n",
        "\n",
        "        Args:\n",
        "            X: {array-like, sparse matrix} of shape (n_samples, n_features)\n",
        "                where n_features matches the training set.\n",
        "            empty_value: numeric value to fill elements where no features are\n",
        "                mapped. Default = 0 (although it was 1 in the paper).\n",
        "\n",
        "        Returns:\n",
        "            A list of n_samples numpy matrices of dimensions set by\n",
        "            the pixel parameter\n",
        "        \"\"\"\n",
        "\n",
        "        # Group by location (x1, y1) of each feature\n",
        "        # Tranpose to get (n_features, n_samples)\n",
        "        img_coords = pd.DataFrame(np.vstack(\n",
        "            (self._coords, X.clip(0, 1))).T).groupby(\n",
        "                [0, 1],  # (x1, y1)\n",
        "                as_index=False).mean()\n",
        "\n",
        "        img_matrices = []\n",
        "        blank_mat = np.zeros(self._pixels)\n",
        "        if empty_value != 0:\n",
        "            blank_mat[:] = empty_value\n",
        "        for z in range(2, img_coords.shape[1]):\n",
        "            img_matrix = blank_mat.copy()\n",
        "            img_matrix[img_coords[0].astype(int),\n",
        "                       img_coords[1].astype(int)] = img_coords[z]\n",
        "            img_matrices.append(img_matrix)\n",
        "\n",
        "        return img_matrices\n",
        "\n",
        "    def fit_transform(self, X, empty_value=0):\n",
        "        \"\"\"Train the image transformer from the training set (X) and return\n",
        "        the transformed data.\n",
        "\n",
        "        Args:\n",
        "            X: {array-like, sparse matrix} of shape (n_samples, n_features)\n",
        "            empty_value: numeric value to fill elements where no features are\n",
        "                mapped. Default = 0 (although it was 1 in the paper).\n",
        "\n",
        "        Returns:\n",
        "            A list of n_samples numpy matrices of dimensions set by\n",
        "            the pixel parameter\n",
        "        \"\"\"\n",
        "        self.fit(X)\n",
        "        return self.transform(X, empty_value=empty_value)\n",
        "\n",
        "    def feature_density_matrix(self):\n",
        "        \"\"\"Generate image matrix with feature counts per pixel\n",
        "\n",
        "        Returns:\n",
        "            img_matrix (ndarray): matrix with feature counts per pixel\n",
        "        \"\"\"\n",
        "        fdmat = np.zeros(self._pixels)\n",
        "        # Group by location (x1, y1) of each feature\n",
        "        # Tranpose to get (n_features, n_samples)\n",
        "        coord_cnt = (\n",
        "            pd.DataFrame(self._coords.T).assign(count=1).groupby(\n",
        "                [0, 1],  # (x1, y1)\n",
        "                as_index=False).count())\n",
        "        fdmat[coord_cnt[0].astype(int),\n",
        "              coord_cnt[1].astype(int)] = coord_cnt['count']\n",
        "        return fdmat\n",
        "\n",
        "    @staticmethod\n",
        "    def _minimum_bounding_rectangle(hull_points):\n",
        "        \"\"\"Find the smallest bounding rectangle for a set of points.\n",
        "\n",
        "        Modified from JesseBuesking at https://stackoverflow.com/a/33619018\n",
        "        Returns a set of points representing the corners of the bounding box.\n",
        "\n",
        "        Args:\n",
        "            hull_points : an nx2 matrix of hull coordinates\n",
        "\n",
        "        Returns:\n",
        "            (tuple): tuple containing\n",
        "                coords (ndarray): coordinates of the corners of the rectangle\n",
        "                rotmat (ndarray): rotation matrix to align edges of rectangle\n",
        "                    to x and y\n",
        "        \"\"\"\n",
        "\n",
        "        pi2 = np.pi / 2.\n",
        "\n",
        "        # Calculate edge angles\n",
        "        edges = hull_points[1:] - hull_points[:-1]\n",
        "        angles = np.arctan2(edges[:, 1], edges[:, 0])\n",
        "        angles = np.abs(np.mod(angles, pi2))\n",
        "        angles = np.unique(angles)\n",
        "\n",
        "        # Find rotation matrices\n",
        "        rotations = np.vstack([\n",
        "            np.cos(angles),\n",
        "            np.cos(angles - pi2),\n",
        "            np.cos(angles + pi2),\n",
        "            np.cos(angles)\n",
        "        ]).T\n",
        "        rotations = rotations.reshape((-1, 2, 2))\n",
        "\n",
        "        # Apply rotations to the hull\n",
        "        rot_points = np.dot(rotations, hull_points.T)\n",
        "\n",
        "        # Find the bounding points\n",
        "        min_x = np.nanmin(rot_points[:, 0], axis=1)\n",
        "        max_x = np.nanmax(rot_points[:, 0], axis=1)\n",
        "        min_y = np.nanmin(rot_points[:, 1], axis=1)\n",
        "        max_y = np.nanmax(rot_points[:, 1], axis=1)\n",
        "\n",
        "        # Find the box with the best area\n",
        "        areas = (max_x - min_x) * (max_y - min_y)\n",
        "        best_idx = np.argmin(areas)\n",
        "\n",
        "        # Return the best box\n",
        "        x1 = max_x[best_idx]\n",
        "        x2 = min_x[best_idx]\n",
        "        y1 = max_y[best_idx]\n",
        "        y2 = min_y[best_idx]\n",
        "        rotmat = rotations[best_idx]\n",
        "\n",
        "        # Generate coordinates\n",
        "        coords = np.zeros((4, 2))\n",
        "        coords[0] = np.dot([x1, y2], rotmat)\n",
        "        coords[1] = np.dot([x2, y2], rotmat)\n",
        "        coords[2] = np.dot([x2, y1], rotmat)\n",
        "        coords[3] = np.dot([x1, y1], rotmat)\n",
        "\n",
        "        return coords, rotmat"
      ],
      "metadata": {
        "id": "b1R__5vyJDMb"
      },
      "execution_count": 2,
      "outputs": []
    },
    {
      "cell_type": "code",
      "source": [
        "def plot_embed_2D(X, title=None):\n",
        "    sns.set(style=\"darkgrid\")\n",
        "\n",
        "    # Create subplots\n",
        "    fig, ax = plt.subplots(1, 1, figsize=(10, 7), squeeze=False)\n",
        "    ax[0, 0].scatter(X[:, 0],\n",
        "                     X[:, 1],\n",
        "                     cmap=plt.cm.get_cmap(\"jet\", 10),\n",
        "                     marker=\"x\",\n",
        "                     alpha=1.0)\n",
        "    plt.gca().set_aspect('equal', adjustable='box')\n",
        "\n",
        "    if title is not None:\n",
        "        ax[0, 0].set_title(title, fontsize=20)\n",
        "\n",
        "    plt.rcParams.update({'font.size': 14})\n",
        "    plt.show()\n",
        "\n",
        "\n",
        "def tsne_transform(data, perplexity=30, plot=True):\n",
        "    # Transpose to get (n_features, n_samples)\n",
        "    data = data.T\n",
        "\n",
        "    tsne = TSNE(n_components=2,\n",
        "                metric='cosine',\n",
        "                perplexity=perplexity,\n",
        "                n_iter=1000,\n",
        "                method='exact',\n",
        "                random_state=rand_seed,\n",
        "                n_jobs=-1)\n",
        "    # Transpose to get (n_features, n_samples)\n",
        "    transformed = tsne.fit_transform(data)\n",
        "\n",
        "    if plot:\n",
        "        plot_embed_2D(\n",
        "            transformed,\n",
        "            f\"All Feature Location Matrix of Training Set (Perplexity: {perplexity})\"\n",
        "        )\n",
        "    return transformed\n",
        "\n",
        "class LogScaler:\n",
        "    \"\"\"Log normalize and scale data\n",
        "\n",
        "    Log normalization and scaling procedure as described as norm-2 in the\n",
        "    DeepInsight paper supplementary information.\n",
        "    \n",
        "    Note: The dimensions of input matrix is (N samples, d features)\n",
        "    \"\"\"\n",
        "    def __init__(self):\n",
        "        self._min0 = None\n",
        "        self._max = None\n",
        "\n",
        "    \"\"\"\n",
        "    Use this as a preprocessing step in inference mode.\n",
        "    \"\"\"\n",
        "    def fit(self, X, y=None):\n",
        "        # Min. of training set per feature\n",
        "        self._min0 = X.min(axis=0)\n",
        "\n",
        "        # Log normalized X by log(X + _min0 + 1)\n",
        "        X_norm = np.log(\n",
        "            X +\n",
        "            np.repeat(np.abs(self._min0)[np.newaxis, :], X.shape[0], axis=0) +\n",
        "            1).clip(min=0, max=None)\n",
        "\n",
        "        # Global max. of training set from X_norm\n",
        "        self._max = X_norm.max()\n",
        "\n",
        "    \"\"\"\n",
        "    For training set only.\n",
        "    \"\"\"\n",
        "    def fit_transform(self, X, y=None):\n",
        "        # Min. of training set per feature\n",
        "        self._min0 = X.min(axis=0)\n",
        "\n",
        "        # Log normalized X by log(X + _min0 + 1)\n",
        "        X_norm = np.log(\n",
        "            X +\n",
        "            np.repeat(np.abs(self._min0)[np.newaxis, :], X.shape[0], axis=0) +\n",
        "            1).clip(min=0, max=None)\n",
        "\n",
        "        # Global max. of training set from X_norm\n",
        "        self._max = X_norm.max()\n",
        "\n",
        "        # Normalized again by global max. of training set\n",
        "        return (X_norm / self._max).clip(0, 1)\n",
        "\n",
        "    \"\"\"\n",
        "    For validation and test set only.\n",
        "    \"\"\"\n",
        "    def transform(self, X, y=None):\n",
        "        # Adjust min. of each feature of X by _min0\n",
        "        for i in range(X.shape[1]):\n",
        "            X[:, i] = X[:, i].clip(min=self._min0[i], max=None)\n",
        "\n",
        "        # Log normalized X by log(X + _min0 + 1)\n",
        "        X_norm = np.log(\n",
        "            X +\n",
        "            np.repeat(np.abs(self._min0)[np.newaxis, :], X.shape[0], axis=0) +\n",
        "            1).clip(min=0, max=None)\n",
        "\n",
        "        # Normalized again by global max. of training set\n",
        "        return (X_norm / self._max).clip(0, 1)"
      ],
      "metadata": {
        "id": "vWYq5Sa9KuT7"
      },
      "execution_count": 3,
      "outputs": []
    },
    {
      "cell_type": "code",
      "source": [
        "X, y = load_breast_cancer(return_X_y=True)\n",
        "# X = X.reshape(-1, 30, 1)\n",
        "# y = to_categorical(y.reshape(-1, 1))\n",
        "# featurewiseな標準化\n",
        "# X = (X - np.mean(X, axis=0)) / np.std(X, axis=0)\n",
        "X_train, X_test, y_train, y_test = train_test_split(X, y, test_size=0.3, random_state=0)\n"
      ],
      "metadata": {
        "id": "jDQNc742H4EE"
      },
      "execution_count": 4,
      "outputs": []
    },
    {
      "cell_type": "code",
      "source": [
        "X_train.shape"
      ],
      "metadata": {
        "colab": {
          "base_uri": "https://localhost:8080/"
        },
        "id": "TzNW6nJWsPVU",
        "outputId": "b9c2a011-eeeb-4db2-fa6b-d116828ce36c"
      },
      "execution_count": 5,
      "outputs": [
        {
          "output_type": "execute_result",
          "data": {
            "text/plain": [
              "(398, 30)"
            ]
          },
          "metadata": {},
          "execution_count": 5
        }
      ]
    },
    {
      "cell_type": "code",
      "source": [
        "all_scaler = LogScaler()\n",
        "train_all_features = all_scaler.fit_transform(X_train)\n",
        "# valid_all_features = all_scaler.transform(valid_all_features)\n",
        "test_all_features = all_scaler.transform(X_test)"
      ],
      "metadata": {
        "id": "xdpsChytpv0g"
      },
      "execution_count": 6,
      "outputs": []
    },
    {
      "cell_type": "code",
      "source": [
        "train_all_features"
      ],
      "metadata": {
        "id": "hbI-NavmLSAZ",
        "colab": {
          "base_uri": "https://localhost:8080/"
        },
        "outputId": "e66592f4-0b65-4e92-e011-7be14ec744e1"
      },
      "execution_count": 10,
      "outputs": [
        {
          "output_type": "execute_result",
          "data": {
            "text/plain": [
              "array([[0.35350863, 0.38469034, 0.56882763, ..., 0.00853474, 0.04429116,\n",
              "        0.01631376],\n",
              "       [0.34723078, 0.40224898, 0.56145674, ..., 0.00752968, 0.03816036,\n",
              "        0.01491642],\n",
              "       [0.35806779, 0.39949652, 0.57304257, ..., 0.00939611, 0.04569468,\n",
              "        0.01522068],\n",
              "       ...,\n",
              "       [0.34023482, 0.40106542, 0.55370176, ..., 0.00586837, 0.04022507,\n",
              "        0.01522487],\n",
              "       [0.3421607 , 0.40065455, 0.55473306, ..., 0.        , 0.03550377,\n",
              "        0.01356095],\n",
              "       [0.35363087, 0.42210254, 0.56935774, ..., 0.01097233, 0.0372843 ,\n",
              "        0.01584771]])"
            ]
          },
          "metadata": {},
          "execution_count": 10
        }
      ]
    },
    {
      "cell_type": "code",
      "source": [
        "train_all_tsne = tsne_transform(train_all_features, perplexity=5)"
      ],
      "metadata": {
        "id": "lh4abctnIQ-7"
      },
      "execution_count": null,
      "outputs": []
    },
    {
      "cell_type": "code",
      "source": [
        "all_it = DeepInsightTransformer(feature_extractor='tsne_exact',\n",
        "                                pixels=100,\n",
        "                                perplexity=5,\n",
        "                                random_state=rand_seed,\n",
        "                                n_jobs=-1)\n",
        "\n",
        "all_it.fit(train_all_features, plot=True)"
      ],
      "metadata": {
        "colab": {
          "base_uri": "https://localhost:8080/",
          "height": 573
        },
        "id": "WETBpYC8K6BK",
        "outputId": "92d66f35-218c-4121-9a03-a1e0b83ccf45"
      },
      "execution_count": 13,
      "outputs": [
        {
          "output_type": "stream",
          "name": "stderr",
          "text": [
            "/usr/local/lib/python3.7/dist-packages/sklearn/manifold/_t_sne.py:783: FutureWarning: The default initialization in TSNE will change from 'random' to 'pca' in 1.2.\n",
            "  FutureWarning,\n",
            "/usr/local/lib/python3.7/dist-packages/sklearn/manifold/_t_sne.py:793: FutureWarning: The default learning rate in TSNE will change from 200.0 to 'auto' in 1.2.\n",
            "  FutureWarning,\n",
            "/usr/local/lib/python3.7/dist-packages/sklearn/manifold/_t_sne.py:827: FutureWarning: 'square_distances' has been introduced in 0.24 to help phase out legacy squaring behavior. The 'legacy' setting will be removed in 1.1 (renaming of 0.26), and the default setting will be changed to True. In 1.3, 'square_distances' will be removed altogether, and distances will be squared by default. Set 'square_distances'=True to silence this warning.\n",
            "  FutureWarning,\n"
          ]
        },
        {
          "output_type": "display_data",
          "data": {
            "text/plain": [
              "<Figure size 720x504 with 1 Axes>"
            ],
            "image/png": "[encoded data removed]"
          },
          "metadata": {}
        },
        {
          "output_type": "execute_result",
          "data": {
            "text/plain": [
              "<__main__.DeepInsightTransformer at 0x7f27827e8650>"
            ]
          },
          "metadata": {},
          "execution_count": 13
        }
      ]
    },
    {
      "cell_type": "code",
      "source": [
        "# all_it = DeepInsightTransformer(feature_extractor='tsne_exact',\n",
        "#                                 pixels=100,\n",
        "#                                 perplexity=5,\n",
        "#                                 random_state=rand_seed,\n",
        "#                                 n_jobs=-1)\n",
        "# all_it.fit(pd.DataFrame(X_train).values, plot=True)"
      ],
      "metadata": {
        "id": "uAY-Rif1QDEi"
      },
      "execution_count": 14,
      "outputs": []
    },
    {
      "cell_type": "code",
      "source": [
        "# Plot image matrix with feature counts per pixel\n",
        "def plot_feature_density(it, pixels=100, show_grid=True, title=None):\n",
        "    # Update image size\n",
        "    it.pixels = pixels\n",
        "\n",
        "    fdm = it.feature_density_matrix()\n",
        "    fdm[fdm == 0] = np.nan\n",
        "\n",
        "    # Create subplots\n",
        "    fig, ax = plt.subplots(1, 1, figsize=(10, 7), squeeze=False)\n",
        "\n",
        "    if show_grid:\n",
        "        sns.heatmap(fdm,\n",
        "                    cmap=\"viridis\",\n",
        "                    linewidths=0.01,\n",
        "                    linecolor=\"lightgrey\",\n",
        "                    square=False,\n",
        "                    ax=ax[0, 0])\n",
        "        for _, spine in ax[0, 0].spines.items():\n",
        "            spine.set_visible(True)\n",
        "    else:\n",
        "        sns.heatmap(fdm,\n",
        "                    cmap=\"viridis\",\n",
        "                    linewidths=0,\n",
        "                    square=False,\n",
        "                    ax=ax[0, 0])\n",
        "\n",
        "    if title is not None:\n",
        "        ax[0, 0].set_title(title, fontsize=20)\n",
        "\n",
        "    plt.rcParams.update({'font.size': 14})\n",
        "    plt.show()\n",
        "\n",
        "    # Feature Overlapping Counts\n",
        "    gene_overlap = (\n",
        "        pd.DataFrame(all_it._coords.T).assign(count=1).groupby(\n",
        "            [0, 1],  # (x1, y1)\n",
        "            as_index=False).count())\n",
        "    print(gene_overlap[\"count\"].describe())\n",
        "    print(gene_overlap[\"count\"].hist())\n",
        "    plt.suptitle(\"Feauture Overlap Counts\")"
      ],
      "metadata": {
        "id": "L0FZrDkSPwji"
      },
      "execution_count": 15,
      "outputs": []
    },
    {
      "cell_type": "code",
      "source": [
        "resolution = 50\n",
        "# all_it = DeepInsightTransformer(feature_extractor='tsne_exact',\n",
        "#                                 pixels=resolution,\n",
        "#                                 perplexity=50,\n",
        "#                                 random_state=rand_seed,\n",
        "#                                 n_jobs=-1)\n",
        "# all_it.fit(pd.DataFrame(X_train).values, plot=True)\n",
        "all_it = DeepInsightTransformer(feature_extractor='tsne_exact',\n",
        "                                pixels=50,\n",
        "                                perplexity=5,\n",
        "                                random_state=rand_seed,\n",
        "                                n_jobs=-1)\n",
        "all_it.fit(train_all_features, plot=True)\n",
        "\n",
        "plot_feature_density(\n",
        "    all_it,\n",
        "    pixels=resolution,\n",
        "    title=\n",
        "    f\"All Feature Density Matrix of Training Set (Resolution: {resolution}x{resolution})\"\n",
        ")"
      ],
      "metadata": {
        "colab": {
          "base_uri": "https://localhost:8080/",
          "height": 1000
        },
        "id": "-leoT_i9P4n7",
        "outputId": "ff173266-b7c1-4789-a160-1c1c50212afd"
      },
      "execution_count": 138,
      "outputs": [
        {
          "output_type": "stream",
          "name": "stderr",
          "text": [
            "/usr/local/lib/python3.7/dist-packages/sklearn/manifold/_t_sne.py:783: FutureWarning: The default initialization in TSNE will change from 'random' to 'pca' in 1.2.\n",
            "  FutureWarning,\n",
            "/usr/local/lib/python3.7/dist-packages/sklearn/manifold/_t_sne.py:793: FutureWarning: The default learning rate in TSNE will change from 200.0 to 'auto' in 1.2.\n",
            "  FutureWarning,\n",
            "/usr/local/lib/python3.7/dist-packages/sklearn/manifold/_t_sne.py:827: FutureWarning: 'square_distances' has been introduced in 0.24 to help phase out legacy squaring behavior. The 'legacy' setting will be removed in 1.1 (renaming of 0.26), and the default setting will be changed to True. In 1.3, 'square_distances' will be removed altogether, and distances will be squared by default. Set 'square_distances'=True to silence this warning.\n",
            "  FutureWarning,\n"
          ]
        },
        {
          "output_type": "display_data",
          "data": {
            "text/plain": [
              "<Figure size 720x504 with 1 Axes>"
            ],
            "image/png": "[encoded data removed]"
          },
          "metadata": {}
        },
        {
          "output_type": "display_data",
          "data": {
            "text/plain": [
              "<Figure size 720x504 with 2 Axes>"
            ],
            "image/png": "[encoded data removed]"
          },
          "metadata": {}
        },
        {
          "output_type": "stream",
          "name": "stdout",
          "text": [
            "count    30.0\n",
            "mean      1.0\n",
            "std       0.0\n",
            "min       1.0\n",
            "25%       1.0\n",
            "50%       1.0\n",
            "75%       1.0\n",
            "max       1.0\n",
            "Name: count, dtype: float64\n",
            "AxesSubplot(0.125,0.125;0.775x0.755)\n"
          ]
        },
        {
          "output_type": "display_data",
          "data": {
            "text/plain": [
              "<Figure size 432x288 with 1 Axes>"
            ],
            "image/png": "[encoded data removed]"
          },
          "metadata": {}
        }
      ]
    },
    {
      "cell_type": "code",
      "source": [
        "trans_imgs = all_it.transform(train_all_features)\n",
        "val_imgs = all_it.transform(test_all_features)"
      ],
      "metadata": {
        "id": "kbgdo6Xh653i"
      },
      "execution_count": 17,
      "outputs": []
    },
    {
      "cell_type": "code",
      "source": [
        "len(trans_imgs), trans_imgs[0].shape"
      ],
      "metadata": {
        "colab": {
          "base_uri": "https://localhost:8080/"
        },
        "id": "iYU-R1LF7D_c",
        "outputId": "bc1c34c4-335b-472f-9538-d4d84d70cc92"
      },
      "execution_count": 27,
      "outputs": [
        {
          "output_type": "execute_result",
          "data": {
            "text/plain": [
              "(398, (50, 50))"
            ]
          },
          "metadata": {},
          "execution_count": 27
        }
      ]
    },
    {
      "cell_type": "code",
      "source": [
        "plt.imshow(trans_imgs[0], cmap='gray')"
      ],
      "metadata": {
        "colab": {
          "base_uri": "https://localhost:8080/",
          "height": 287
        },
        "id": "wIRciaKv7jeH",
        "outputId": "a9c6afb4-3888-4086-f93f-ad8a47de9d53"
      },
      "execution_count": 19,
      "outputs": [
        {
          "output_type": "execute_result",
          "data": {
            "text/plain": [
              "<matplotlib.image.AxesImage at 0x7f2781c88190>"
            ]
          },
          "metadata": {},
          "execution_count": 19
        },
        {
          "output_type": "display_data",
          "data": {
            "text/plain": [
              "<Figure size 432x288 with 1 Axes>"
            ],
            "image/png": "[encoded data removed]"
          },
          "metadata": {}
        }
      ]
    },
    {
      "cell_type": "code",
      "source": [],
      "metadata": {
        "id": "CuBi2LsIE-Hg"
      },
      "execution_count": null,
      "outputs": []
    },
    {
      "cell_type": "code",
      "source": [
        "sns.heatmap(trans_imgs[0],\n",
        "            cmap=\"viridis\",\n",
        "            linewidths=0,\n",
        "            square=False)"
      ],
      "metadata": {
        "colab": {
          "base_uri": "https://localhost:8080/",
          "height": 288
        },
        "id": "uQRDfLf3LtV7",
        "outputId": "073a8835-abfe-4f85-e006-fa055b5f81de"
      },
      "execution_count": 22,
      "outputs": [
        {
          "output_type": "execute_result",
          "data": {
            "text/plain": [
              "<matplotlib.axes._subplots.AxesSubplot at 0x7f27819e8890>"
            ]
          },
          "metadata": {},
          "execution_count": 22
        },
        {
          "output_type": "display_data",
          "data": {
            "text/plain": [
              "<Figure size 432x288 with 2 Axes>"
            ],
            "image/png": "[encoded data removed]"
          },
          "metadata": {}
        }
      ]
    },
    {
      "cell_type": "code",
      "source": [
        "plt.imshow(trans_imgs[397], cmap='gray')"
      ],
      "metadata": {
        "colab": {
          "base_uri": "https://localhost:8080/",
          "height": 287
        },
        "id": "diko2iPoR1eL",
        "outputId": "5b13ebbe-93c3-444e-b000-2cf9895a8dbc"
      },
      "execution_count": 29,
      "outputs": [
        {
          "output_type": "execute_result",
          "data": {
            "text/plain": [
              "<matplotlib.image.AxesImage at 0x7f2781ee9350>"
            ]
          },
          "metadata": {},
          "execution_count": 29
        },
        {
          "output_type": "display_data",
          "data": {
            "text/plain": [
              "<Figure size 432x288 with 1 Axes>"
            ],
            "image/png": "[encoded data removed]"
          },
          "metadata": {}
        }
      ]
    },
    {
      "cell_type": "code",
      "source": [
        "trans_imgs[0].shape"
      ],
      "metadata": {
        "colab": {
          "base_uri": "https://localhost:8080/"
        },
        "id": "iMbUMWvZX3Kk",
        "outputId": "7c3ea341-8112-4bd8-e990-516b08a09281"
      },
      "execution_count": 54,
      "outputs": [
        {
          "output_type": "execute_result",
          "data": {
            "text/plain": [
              "(50, 50)"
            ]
          },
          "metadata": {},
          "execution_count": 54
        }
      ]
    },
    {
      "cell_type": "code",
      "source": [
        "pd.DataFrame(y_test).values.reshape(-1,1).shape"
      ],
      "metadata": {
        "colab": {
          "base_uri": "https://localhost:8080/"
        },
        "id": "kBUMh9cJZgKW",
        "outputId": "0d6026a5-b309-4ba4-e4a4-90a76e5faa44"
      },
      "execution_count": 63,
      "outputs": [
        {
          "output_type": "execute_result",
          "data": {
            "text/plain": [
              "(171, 1)"
            ]
          },
          "metadata": {},
          "execution_count": 63
        }
      ]
    },
    {
      "cell_type": "code",
      "source": [
        "train_all_features"
      ],
      "metadata": {
        "colab": {
          "base_uri": "https://localhost:8080/"
        },
        "id": "lXUEgUmSqcC5",
        "outputId": "c025aadc-5c82-4d37-8262-09d93ed7587c"
      },
      "execution_count": 130,
      "outputs": [
        {
          "output_type": "execute_result",
          "data": {
            "text/plain": [
              "array([[0.35350863, 0.38469034, 0.56882763, ..., 0.00853474, 0.04429116,\n",
              "        0.01631376],\n",
              "       [0.34723078, 0.40224898, 0.56145674, ..., 0.00752968, 0.03816036,\n",
              "        0.01491642],\n",
              "       [0.35806779, 0.39949652, 0.57304257, ..., 0.00939611, 0.04569468,\n",
              "        0.01522068],\n",
              "       ...,\n",
              "       [0.34023482, 0.40106542, 0.55370176, ..., 0.00586837, 0.04022507,\n",
              "        0.01522487],\n",
              "       [0.3421607 , 0.40065455, 0.55473306, ..., 0.        , 0.03550377,\n",
              "        0.01356095],\n",
              "       [0.35363087, 0.42210254, 0.56935774, ..., 0.01097233, 0.0372843 ,\n",
              "        0.01584771]])"
            ]
          },
          "metadata": {},
          "execution_count": 130
        }
      ]
    },
    {
      "cell_type": "code",
      "source": [
        "X, y = load_breast_cancer(return_X_y=True)\n",
        "# X = X.reshape(-1, 30, 1)\n",
        "# y = to_categorical(y.reshape(-1, 1))\n",
        "# featurewiseな標準化\n",
        "# X = (X - np.mean(X, axis=0)) / np.std(X, axis=0)\n",
        "X_train, X_test, y_train, y_test = train_test_split(X, y, test_size=0.3, random_state=0)\n",
        "\n",
        "all_scaler = LogScaler()\n",
        "train_all_features = all_scaler.fit_transform(X_train)\n",
        "test_all_features = all_scaler.transform(X_test)\n",
        "\n",
        "\n",
        "resolution = 20\n",
        "all_it = DeepInsightTransformer(feature_extractor='tsne_exact',\n",
        "                                pixels=resolution,\n",
        "                                perplexity=10,\n",
        "                                random_state=rand_seed,\n",
        "                                n_jobs=-1)\n",
        "all_it.fit(train_all_features, plot=True)\n",
        "\n",
        "trans_imgs = all_it.transform(train_all_features, empty_value=0)\n",
        "val_imgs = all_it.transform(test_all_features, empty_value=0)\n",
        "\n",
        "trans_imgs = np.array(trans_imgs).reshape(len(trans_imgs), -1, resolution, resolution)\n",
        "val_imgs = np.array(val_imgs).reshape(len(val_imgs), -1, resolution, resolution)\n",
        "\n",
        "trans_imgs.shape, y_train.shape"
      ],
      "metadata": {
        "colab": {
          "base_uri": "https://localhost:8080/",
          "height": 573
        },
        "id": "uTYYwJw3X_OU",
        "outputId": "c1f946c0-fb76-4e1e-fb35-4df179e84aa9"
      },
      "execution_count": 223,
      "outputs": [
        {
          "output_type": "stream",
          "name": "stderr",
          "text": [
            "/usr/local/lib/python3.7/dist-packages/sklearn/manifold/_t_sne.py:783: FutureWarning: The default initialization in TSNE will change from 'random' to 'pca' in 1.2.\n",
            "  FutureWarning,\n",
            "/usr/local/lib/python3.7/dist-packages/sklearn/manifold/_t_sne.py:793: FutureWarning: The default learning rate in TSNE will change from 200.0 to 'auto' in 1.2.\n",
            "  FutureWarning,\n",
            "/usr/local/lib/python3.7/dist-packages/sklearn/manifold/_t_sne.py:827: FutureWarning: 'square_distances' has been introduced in 0.24 to help phase out legacy squaring behavior. The 'legacy' setting will be removed in 1.1 (renaming of 0.26), and the default setting will be changed to True. In 1.3, 'square_distances' will be removed altogether, and distances will be squared by default. Set 'square_distances'=True to silence this warning.\n",
            "  FutureWarning,\n"
          ]
        },
        {
          "output_type": "display_data",
          "data": {
            "text/plain": [
              "<Figure size 720x504 with 1 Axes>"
            ],
            "image/png": "[encoded data removed]"
          },
          "metadata": {}
        },
        {
          "output_type": "execute_result",
          "data": {
            "text/plain": [
              "((398, 1, 20, 20), (398,))"
            ]
          },
          "metadata": {},
          "execution_count": 223
        }
      ]
    },
    {
      "cell_type": "code",
      "source": [
        "pd.DataFrame(np.ravel(trans_imgs[0] - trans_imgs[3])).describe()"
      ],
      "metadata": {
        "colab": {
          "base_uri": "https://localhost:8080/",
          "height": 300
        },
        "id": "TIiSdfdycBcK",
        "outputId": "bea75e8d-73d7-4ddd-f4c4-0710244853f5"
      },
      "execution_count": 160,
      "outputs": [
        {
          "output_type": "execute_result",
          "data": {
            "text/plain": [
              "                 0\n",
              "count  2500.000000\n",
              "mean     -0.000176\n",
              "std       0.003559\n",
              "min      -0.106279\n",
              "25%       0.000000\n",
              "50%       0.000000\n",
              "75%       0.000000\n",
              "max       0.037959"
            ],
            "text/html": [
              "\n",
              "  <div id=\"df-60f5e05c-ad0a-4071-8cdd-1d6cf56b7162\">\n",
              "    <div class=\"colab-df-container\">\n",
              "      <div>\n",
              "<style scoped>\n",
              "    .dataframe tbody tr th:only-of-type {\n",
              "        vertical-align: middle;\n",
              "    }\n",
              "\n",
              "    .dataframe tbody tr th {\n",
              "        vertical-align: top;\n",
              "    }\n",
              "\n",
              "    .dataframe thead th {\n",
              "        text-align: right;\n",
              "    }\n",
              "</style>\n",
              "<table border=\"1\" class=\"dataframe\">\n",
              "  <thead>\n",
              "    <tr style=\"text-align: right;\">\n",
              "      <th></th>\n",
              "      <th>0</th>\n",
              "    </tr>\n",
              "  </thead>\n",
              "  <tbody>\n",
              "    <tr>\n",
              "      <th>count</th>\n",
              "      <td>2500.000000</td>\n",
              "    </tr>\n",
              "    <tr>\n",
              "      <th>mean</th>\n",
              "      <td>-0.000176</td>\n",
              "    </tr>\n",
              "    <tr>\n",
              "      <th>std</th>\n",
              "      <td>0.003559</td>\n",
              "    </tr>\n",
              "    <tr>\n",
              "      <th>min</th>\n",
              "      <td>-0.106279</td>\n",
              "    </tr>\n",
              "    <tr>\n",
              "      <th>25%</th>\n",
              "      <td>0.000000</td>\n",
              "    </tr>\n",
              "    <tr>\n",
              "      <th>50%</th>\n",
              "      <td>0.000000</td>\n",
              "    </tr>\n",
              "    <tr>\n",
              "      <th>75%</th>\n",
              "      <td>0.000000</td>\n",
              "    </tr>\n",
              "    <tr>\n",
              "      <th>max</th>\n",
              "      <td>0.037959</td>\n",
              "    </tr>\n",
              "  </tbody>\n",
              "</table>\n",
              "</div>\n",
              "      <button class=\"colab-df-convert\" onclick=\"convertToInteractive('df-60f5e05c-ad0a-4071-8cdd-1d6cf56b7162')\"\n",
              "              title=\"Convert this dataframe to an interactive table.\"\n",
              "              style=\"display:none;\">\n",
              "        \n",
              "  <svg xmlns=\"http://www.w3.org/2000/svg\" height=\"24px\"viewBox=\"0 0 24 24\"\n",
              "       width=\"24px\">\n",
              "    <path d=\"M0 0h24v24H0V0z\" fill=\"none\"/>\n",
              "    <path d=\"M18.56 5.44l.94 2.06.94-2.06 2.06-.94-2.06-.94-.94-2.06-.94 2.06-2.06.94zm-11 1L8.5 8.5l.94-2.06 2.06-.94-2.06-.94L8.5 2.5l-.94 2.06-2.06.94zm10 10l.94 2.06.94-2.06 2.06-.94-2.06-.94-.94-2.06-.94 2.06-2.06.94z\"/><path d=\"M17.41 7.96l-1.37-1.37c-.4-.4-.92-.59-1.43-.59-.52 0-1.04.2-1.43.59L10.3 9.45l-7.72 7.72c-.78.78-.78 2.05 0 2.83L4 21.41c.39.39.9.59 1.41.59.51 0 1.02-.2 1.41-.59l7.78-7.78 2.81-2.81c.8-.78.8-2.07 0-2.86zM5.41 20L4 18.59l7.72-7.72 1.47 1.35L5.41 20z\"/>\n",
              "  </svg>\n",
              "      </button>\n",
              "      \n",
              "  <style>\n",
              "    .colab-df-container {\n",
              "      display:flex;\n",
              "      flex-wrap:wrap;\n",
              "      gap: 12px;\n",
              "    }\n",
              "\n",
              "    .colab-df-convert {\n",
              "      background-color: #E8F0FE;\n",
              "      border: none;\n",
              "      border-radius: 50%;\n",
              "      cursor: pointer;\n",
              "      display: none;\n",
              "      fill: #1967D2;\n",
              "      height: 32px;\n",
              "      padding: 0 0 0 0;\n",
              "      width: 32px;\n",
              "    }\n",
              "\n",
              "    .colab-df-convert:hover {\n",
              "      background-color: #E2EBFA;\n",
              "      box-shadow: 0px 1px 2px rgba(60, 64, 67, 0.3), 0px 1px 3px 1px rgba(60, 64, 67, 0.15);\n",
              "      fill: #174EA6;\n",
              "    }\n",
              "\n",
              "    [theme=dark] .colab-df-convert {\n",
              "      background-color: #3B4455;\n",
              "      fill: #D2E3FC;\n",
              "    }\n",
              "\n",
              "    [theme=dark] .colab-df-convert:hover {\n",
              "      background-color: #434B5C;\n",
              "      box-shadow: 0px 1px 3px 1px rgba(0, 0, 0, 0.15);\n",
              "      filter: drop-shadow(0px 1px 2px rgba(0, 0, 0, 0.3));\n",
              "      fill: #FFFFFF;\n",
              "    }\n",
              "  </style>\n",
              "\n",
              "      <script>\n",
              "        const buttonEl =\n",
              "          document.querySelector('#df-60f5e05c-ad0a-4071-8cdd-1d6cf56b7162 button.colab-df-convert');\n",
              "        buttonEl.style.display =\n",
              "          google.colab.kernel.accessAllowed ? 'block' : 'none';\n",
              "\n",
              "        async function convertToInteractive(key) {\n",
              "          const element = document.querySelector('#df-60f5e05c-ad0a-4071-8cdd-1d6cf56b7162');\n",
              "          const dataTable =\n",
              "            await google.colab.kernel.invokeFunction('convertToInteractive',\n",
              "                                                     [key], {});\n",
              "          if (!dataTable) return;\n",
              "\n",
              "          const docLinkHtml = 'Like what you see? Visit the ' +\n",
              "            '<a target=\"_blank\" href=https://colab.research.google.com/notebooks/data_table.ipynb>data table notebook</a>'\n",
              "            + ' to learn more about interactive tables.';\n",
              "          element.innerHTML = '';\n",
              "          dataTable['output_type'] = 'display_data';\n",
              "          await google.colab.output.renderOutput(dataTable, element);\n",
              "          const docLink = document.createElement('div');\n",
              "          docLink.innerHTML = docLinkHtml;\n",
              "          element.appendChild(docLink);\n",
              "        }\n",
              "      </script>\n",
              "    </div>\n",
              "  </div>\n",
              "  "
            ]
          },
          "metadata": {},
          "execution_count": 160
        }
      ]
    },
    {
      "cell_type": "code",
      "source": [
        "y_train"
      ],
      "metadata": {
        "colab": {
          "base_uri": "https://localhost:8080/"
        },
        "id": "IYSrMUpIF0fQ",
        "outputId": "6e505990-caae-4587-b454-0b9a944ab251"
      },
      "execution_count": 195,
      "outputs": [
        {
          "output_type": "execute_result",
          "data": {
            "text/plain": [
              "array([1, 1, 1, 0, 1, 1, 1, 1, 0, 0, 1, 1, 0, 1, 1, 1, 1, 0, 1, 1, 0, 0,\n",
              "       1, 1, 0, 0, 1, 1, 0, 1, 1, 0, 0, 0, 1, 1, 1, 0, 1, 1, 1, 1, 1, 0,\n",
              "       1, 0, 1, 0, 1, 0, 1, 0, 1, 1, 1, 1, 0, 1, 0, 1, 1, 1, 0, 1, 1, 1,\n",
              "       0, 1, 1, 0, 0, 1, 0, 1, 0, 1, 0, 0, 0, 0, 1, 0, 1, 0, 1, 0, 1, 0,\n",
              "       1, 1, 0, 1, 1, 1, 1, 1, 1, 1, 1, 1, 1, 1, 1, 1, 0, 1, 1, 1, 0, 1,\n",
              "       1, 1, 1, 1, 1, 0, 1, 0, 1, 1, 0, 1, 0, 0, 1, 0, 0, 1, 1, 0, 1, 1,\n",
              "       1, 0, 1, 1, 1, 1, 1, 0, 0, 1, 1, 1, 1, 0, 0, 1, 1, 1, 1, 0, 1, 1,\n",
              "       0, 1, 1, 0, 1, 0, 1, 1, 1, 1, 0, 0, 0, 0, 1, 0, 1, 0, 0, 1, 1, 1,\n",
              "       1, 1, 0, 1, 1, 0, 1, 1, 0, 0, 1, 1, 1, 0, 0, 1, 1, 0, 1, 1, 1, 0,\n",
              "       1, 0, 1, 0, 0, 0, 0, 1, 1, 1, 1, 0, 0, 1, 1, 1, 1, 1, 0, 1, 1, 0,\n",
              "       1, 1, 0, 0, 0, 0, 1, 1, 0, 1, 1, 1, 0, 0, 1, 1, 1, 1, 1, 0, 0, 0,\n",
              "       1, 0, 0, 1, 1, 1, 1, 1, 1, 0, 1, 1, 1, 1, 1, 1, 0, 0, 1, 0, 1, 0,\n",
              "       0, 1, 1, 1, 1, 1, 0, 0, 0, 1, 1, 0, 0, 1, 1, 0, 1, 0, 0, 1, 0, 1,\n",
              "       1, 1, 1, 1, 1, 1, 0, 0, 1, 1, 1, 0, 1, 1, 1, 1, 0, 1, 0, 0, 0, 1,\n",
              "       0, 1, 0, 1, 0, 0, 1, 1, 1, 1, 1, 1, 1, 1, 0, 0, 0, 0, 0, 1, 1, 1,\n",
              "       1, 1, 1, 1, 0, 1, 0, 1, 1, 1, 1, 1, 0, 0, 0, 1, 0, 1, 1, 0, 0, 0,\n",
              "       0, 1, 0, 0, 0, 1, 0, 1, 0, 1, 1, 0, 0, 1, 0, 1, 1, 1, 1, 0, 1, 1,\n",
              "       0, 1, 1, 1, 0, 0, 1, 1, 1, 0, 1, 1, 0, 1, 1, 1, 1, 1, 0, 0, 0, 1,\n",
              "       1, 1])"
            ]
          },
          "metadata": {},
          "execution_count": 195
        }
      ]
    },
    {
      "cell_type": "code",
      "source": [
        "plt.imshow(trans_imgs[3][0] - trans_imgs[0][0])"
      ],
      "metadata": {
        "colab": {
          "base_uri": "https://localhost:8080/",
          "height": 285
        },
        "id": "_aH06NG-GJaC",
        "outputId": "d4c5b978-a253-4cf8-d448-6570bb2a191d"
      },
      "execution_count": 224,
      "outputs": [
        {
          "output_type": "execute_result",
          "data": {
            "text/plain": [
              "<matplotlib.image.AxesImage at 0x7f2693308e10>"
            ]
          },
          "metadata": {},
          "execution_count": 224
        },
        {
          "output_type": "display_data",
          "data": {
            "text/plain": [
              "<Figure size 432x288 with 1 Axes>"
            ],
            "image/png": "[encoded data removed]"
          },
          "metadata": {}
        }
      ]
    },
    {
      "cell_type": "code",
      "source": [
        "plt.imshow(trans_imgs[0][0])\n",
        "plt.imshow(trans_imgs[3][0])\n"
      ],
      "metadata": {
        "id": "cxoLvllb4PSs"
      },
      "execution_count": null,
      "outputs": []
    },
    {
      "cell_type": "code",
      "source": [
        "plt.imshow(trans_imgs[3][0])"
      ],
      "metadata": {
        "colab": {
          "base_uri": "https://localhost:8080/",
          "height": 285
        },
        "id": "OaSV7Qj8GAoE",
        "outputId": "7d72bf9b-2e8a-4bf1-9697-0c95f75a0f0c"
      },
      "execution_count": 197,
      "outputs": [
        {
          "output_type": "execute_result",
          "data": {
            "text/plain": [
              "<matplotlib.image.AxesImage at 0x7f26920a4dd0>"
            ]
          },
          "metadata": {},
          "execution_count": 197
        },
        {
          "output_type": "display_data",
          "data": {
            "text/plain": [
              "<Figure size 432x288 with 1 Axes>"
            ],
            "image/png": "[encoded data removed]"
          },
          "metadata": {}
        }
      ]
    },
    {
      "cell_type": "code",
      "source": [
        "import torch\n",
        "\n",
        "BATCH_SIZE = 4\n",
        "WEIGHT_DECAY = 0.0005\n",
        "LEARNING_RATE = 0.0001\n",
        "EPOCH = 100\n",
        "\n",
        "# transform = torchvision.transforms.Compose([torchvision.transforms.ToTensor()])\n",
        "\n",
        "from torch.utils.data import DataLoader,TensorDataset\n",
        "\n",
        "train_tensor_dset = TensorDataset(\n",
        "    torch.tensor(trans_imgs, dtype=torch.float),\n",
        "    torch.tensor(pd.DataFrame(y_train).values.reshape(-1,1), dtype=torch.float)\n",
        ")\n",
        "\n",
        "valid_tensor_dset = TensorDataset(\n",
        "    torch.tensor(val_imgs, dtype=torch.float),\n",
        "    torch.tensor(pd.DataFrame(y_test).values.reshape(-1,1), dtype=torch.float)\n",
        ")\n",
        "\n",
        "trainloader = torch.utils.data.DataLoader(train_tensor_dset, batch_size = BATCH_SIZE,\n",
        "                        shuffle = True, num_workers = 1)\n",
        "\n",
        "testloader = torch.utils.data.DataLoader(valid_tensor_dset, batch_size = BATCH_SIZE,\n",
        "                        shuffle = False, num_workers = 1) \n"
      ],
      "metadata": {
        "id": "0lWEZp6NSPbU"
      },
      "execution_count": 261,
      "outputs": []
    },
    {
      "cell_type": "code",
      "source": [
        "train_tensor_dset.__getitem__(0)[0].size()"
      ],
      "metadata": {
        "colab": {
          "base_uri": "https://localhost:8080/"
        },
        "id": "E4yEsILxe9wX",
        "outputId": "1c51d697-55a7-4bda-820b-dc7434a3259f"
      },
      "execution_count": 262,
      "outputs": [
        {
          "output_type": "execute_result",
          "data": {
            "text/plain": [
              "torch.Size([1, 20, 20])"
            ]
          },
          "metadata": {},
          "execution_count": 262
        }
      ]
    },
    {
      "cell_type": "code",
      "source": [
        "import torch\n",
        "import torchvision\n",
        "import torch.nn as nn\n",
        "import torch.optim as optim\n",
        "import numpy as np\n",
        "import matplotlib.pyplot as plt  \n",
        "class Net(nn.Module):\n",
        "    def __init__(self, dropout_input):\n",
        "        super(Net, self).__init__()\n",
        "        self.relu = nn.ReLU()\n",
        "        self.pool = nn.MaxPool2d(2, stride=2)\n",
        "        self.dropout1 = nn.Dropout(dropout_input)\n",
        "        self.conv1 = nn.Conv2d(1,16,2)\n",
        "        self.conv2 = nn.Conv2d(16,32,3)\n",
        "        self.conv3 = nn.Conv2d(32,48,3)\n",
        "\n",
        "        # self.fc1 = nn.Linear(32 * 5 * 5, 120)\n",
        "        # self.fc1 = nn.Linear(3872, 120)\n",
        "        # self.fc1 = nn.Linear(32, 120)\n",
        "        # self.fc1 = nn.Linear(288, 120)\n",
        "        self.fc1 = nn.Linear(1296, 48)\n",
        "        # self.fc2 = nn.Linear(120, 1)\n",
        "        self.fc2 = nn.Linear(48, 1)\n",
        "\n",
        "    def forward(self, x):\n",
        "        x = self.conv1(x)\n",
        "        x = self.relu(x)\n",
        "        x = self.pool(x)\n",
        "        # x = self.dropout1(x)\n",
        "        # x = self.conv2(x)\n",
        "        # x = self.relu(x)\n",
        "        # x = self.pool(x)\n",
        "        # x = self.dropout1(x)\n",
        "        # x = self.conv3(x)\n",
        "        # x = self.relu(x)\n",
        "        # x = self.pool(x)\n",
        "        x = x.view(x.size()[0], -1)\n",
        "        x = self.fc1(x)\n",
        "        x = self.relu(x)\n",
        "        x = self.fc2(x)\n",
        "        return x\n",
        "\n",
        "# Creating a CNN class\n",
        "class ConvNeuralNet(nn.Module):\n",
        "\t#  Determine what layers and their order in CNN object \n",
        "    def __init__(self, num_classes):\n",
        "        super(ConvNeuralNet, self).__init__()\n",
        "        self.conv_layer1 = nn.Conv2d(in_channels=1, out_channels=32, kernel_size=3)\n",
        "        self.conv_layer2 = nn.Conv2d(in_channels=32, out_channels=32, kernel_size=3)\n",
        "        self.max_pool1 = nn.MaxPool2d(kernel_size = 2, stride = 2)\n",
        "        \n",
        "        self.conv_layer3 = nn.Conv2d(in_channels=32, out_channels=64, kernel_size=3)\n",
        "        self.conv_layer4 = nn.Conv2d(in_channels=64, out_channels=64, kernel_size=3)\n",
        "        self.max_pool2 = nn.MaxPool2d(kernel_size = 2, stride = 2)\n",
        "        \n",
        "        self.fc1 = nn.Linear(256, 128)\n",
        "        self.relu1 = nn.ReLU()\n",
        "        self.fc2 = nn.Linear(128, num_classes)\n",
        "    \n",
        "    # Progresses data across layers    \n",
        "    def forward(self, x):\n",
        "        out = self.conv_layer1(x)\n",
        "        out = self.conv_layer2(out)\n",
        "        out = self.max_pool1(out)\n",
        "        \n",
        "        out = self.conv_layer3(out)\n",
        "        out = self.conv_layer4(out)\n",
        "        out = self.max_pool2(out)\n",
        "                \n",
        "        out = out.reshape(out.size(0), -1)\n",
        "        \n",
        "        out = self.fc1(out)\n",
        "        out = self.relu1(out)\n",
        "        out = self.fc2(out)\n",
        "        return out\n",
        "\n",
        "device = torch.device(\"cuda:0\")\n",
        "net = Net(dropout_input=0.1)\n",
        "# net = ConvNeuralNet(1)\n",
        "net = net.to(device)\n",
        "# criterion = nn.CrossEntropyLoss()\n",
        "\n",
        "criterion =  nn.BCEWithLogitsLoss()\n",
        "# optimizer = optim.SGD(net.parameters(), lr=LEARNING_RATE, momentum=0.5, weight_decay=WEIGHT_DECAY)\n",
        "optimizer = optim.SGD(net.parameters(), lr=1e-4, momentum=0.9)\n",
        "\n"
      ],
      "metadata": {
        "id": "5lBBwhQDNkRH"
      },
      "execution_count": 280,
      "outputs": []
    },
    {
      "cell_type": "code",
      "source": [
        "from sklearn.metrics import roc_auc_score\n",
        "\n",
        "train_loss_value=[]      #trainingのlossを保持するlist\n",
        "train_auc_value=[]       #trainingのaccuracyを保持するlist\n",
        "test_loss_value=[]       #testのlossを保持するlist\n",
        "test_auc_value=[]        #testのaccuracyを保持するlist \n",
        "\n",
        "train_auc =[]\n",
        "for epoch in range(EPOCH):\n",
        "    train_auc_out=[]\n",
        "    train_auc_label=[]\n",
        "    val_auc_out=[]\n",
        "    val_auc_label=[]\n",
        "    print('epoch', epoch+1)    #epoch数の出力\n",
        "    sum_loss = 0.0\n",
        "\n",
        "    for (inputs, labels) in trainloader:\n",
        "        inputs, labels = inputs.to(device), labels.to(device)\n",
        "        outputs = net(inputs)\n",
        "        loss = criterion(outputs, labels)\n",
        "\n",
        "        optimizer.zero_grad()\n",
        "        loss.backward()\n",
        "        optimizer.step()\n",
        "        sum_loss += loss.item()                            #lossを足していく\n",
        "        train_auc_out.append(outputs)   #traindataのaccuracyをグラフ描画のためにlistに保持\n",
        "        train_auc_label.append(labels)   #traindataのaccuracyをグラフ描画のためにlistに保持\n",
        "\n",
        "    y_hat = torch.cat([val for val in train_auc_out], dim=0)\n",
        "    y = torch.cat([val for val in train_auc_label], dim=0)\n",
        "    y_probs = torch.sigmoid(y_hat).detach().cpu().numpy()\n",
        "    metric = roc_auc_score(y.cpu().numpy(), y_probs)\n",
        "    print(\"train mean loss={}, AUC={}\"\n",
        "            .format(sum_loss*BATCH_SIZE/len(trainloader.dataset), metric))  #lossとaccuracy出力\n",
        "    train_loss_value.append(sum_loss*BATCH_SIZE/len(trainloader.dataset))  #traindataのlossをグラフ描画のためにlistに保持\n",
        "    train_auc_value.append(metric)\n",
        "  \n",
        "    sum_loss = 0.0\n",
        "    #test dataを使ってテストをする\n",
        "    for (inputs, labels) in testloader:\n",
        "        inputs, labels = inputs.to(device), labels.to(device)\n",
        "        # inputs, labels = inputs, labels\n",
        "        outputs = net(inputs)\n",
        "        loss = criterion(outputs, labels)\n",
        "        optimizer.zero_grad()\n",
        "        sum_loss += loss.item()\n",
        "        train_auc_out.append(outputs)   #traindataのaccuracyをグラフ描画のためにlistに保持\n",
        "        train_auc_label.append(labels)   #traindataのaccuracyをグラフ描画のためにlistに保持\n",
        "    y_hat = torch.cat([val for val in train_auc_out], dim=0)\n",
        "    y = torch.cat([val for val in train_auc_label], dim=0)\n",
        "    y_probs = torch.sigmoid(y_hat).detach().cpu().numpy()\n",
        "    metric = roc_auc_score(y.cpu().numpy(), y_probs)\n",
        "    print(\"test  mean loss={}, AUC={}\"\n",
        "            .format(sum_loss*BATCH_SIZE/len(testloader.dataset), metric))\n",
        "    test_loss_value.append(sum_loss*BATCH_SIZE/len(testloader.dataset))\n",
        "    test_auc_value.append(metric)"
      ],
      "metadata": {
        "id": "xqJnVoYnQORX"
      },
      "execution_count": null,
      "outputs": []
    },
    {
      "cell_type": "code",
      "source": [
        "#以下グラフ描画\n",
        "plt.plot(range(EPOCH), train_loss_value)\n",
        "plt.plot(range(EPOCH), test_loss_value, c='#00ff00')\n",
        "plt.xlim(0, EPOCH)\n",
        "# plt.ylim(0, 2.5)\n",
        "plt.xlabel('EPOCH')\n",
        "plt.ylabel('LOSS')\n",
        "plt.legend(['train loss', 'test loss'])\n",
        "plt.title('loss')\n",
        "# plt.savefig(\"loss_image.png\")\n",
        "# plt.clf()\n",
        "plt.show()"
      ],
      "metadata": {
        "colab": {
          "base_uri": "https://localhost:8080/",
          "height": 301
        },
        "id": "ZJO44F0unppQ",
        "outputId": "dc05c676-a4ac-4592-c666-13398fe7647c"
      },
      "execution_count": 284,
      "outputs": [
        {
          "output_type": "display_data",
          "data": {
            "text/plain": [
              "<Figure size 432x288 with 1 Axes>"
            ],
            "image/png": "[encoded data removed]"
          },
          "metadata": {}
        }
      ]
    },
    {
      "cell_type": "code",
      "source": [
        "#以下グラフ描画\n",
        "plt.plot(range(EPOCH), train_auc_value)\n",
        "plt.plot(range(EPOCH), test_auc_value, c='#00ff00')\n",
        "plt.xlim(0, EPOCH)\n",
        "# plt.ylim(0, 2.5)\n",
        "plt.xlabel('EPOCH')\n",
        "plt.ylabel('AUC')\n",
        "plt.legend(['train AUC', 'test AUC'])\n",
        "plt.title('AUC')\n",
        "# plt.savefig(\"loss_image.png\")\n",
        "# plt.clf()\n",
        "plt.show()"
      ],
      "metadata": {
        "colab": {
          "base_uri": "https://localhost:8080/",
          "height": 301
        },
        "id": "vKRDn7EV_C4D",
        "outputId": "40838d73-b3b6-4fb5-f979-319ff1a63d7f"
      },
      "execution_count": 286,
      "outputs": [
        {
          "output_type": "display_data",
          "data": {
            "text/plain": [
              "<Figure size 432x288 with 1 Axes>"
            ],
            "image/png": "[encoded data removed]"
          },
          "metadata": {}
        }
      ]
    },
    {
      "cell_type": "code",
      "source": [
        "import torch\n",
        "import torchvision\n",
        "import torch.nn as nn\n",
        "import torch.optim as optim\n",
        "import numpy as np\n",
        "import matplotlib.pyplot as plt    #グラフ出力用module\n",
        "\n",
        "BATCH_SIZE = 100\n",
        "WEIGHT_DECAY = 0.005\n",
        "LEARNING_RATE = 0.0001\n",
        "EPOCH = 100\n",
        "PATH = \"Datasetのディレクトリpath\"\n",
        "\n",
        "transform = torchvision.transforms.Compose([torchvision.transforms.ToTensor(),torchvision.transforms.Normalize((0.5,), (0.5,))])\n",
        "\n",
        "trainset = torchvision.datasets.MNIST(root = PATH, train = True, download = True, transform = transform)\n",
        "trainloader = torch.utils.data.DataLoader(trainset, batch_size = BATCH_SIZE,\n",
        "                        shuffle = True, num_workers = 1) #Windows Osの方はnum_workers=1 または 0が良いかも\n",
        "\n",
        "testset = torchvision.datasets.MNIST(root = PATH, train = False, download = True, transform = transform)\n",
        "testloader = torch.utils.data.DataLoader(testset, batch_size = BATCH_SIZE,\n",
        "                        shuffle = False, num_workers = 1) #Windows Osの方はnum_workers=1 または 0が良いかも\n",
        "\n",
        "class Net(nn.Module):\n",
        "    def __init__(self):\n",
        "        super(Net, self).__init__()\n",
        "        self.relu = nn.ReLU()\n",
        "        self.pool = nn.MaxPool2d(2, stride=2)\n",
        "\n",
        "        self.conv1 = nn.Conv2d(1,16,3)\n",
        "        self.conv2 = nn.Conv2d(16,32,3)\n",
        "\n",
        "        self.fc1 = nn.Linear(32 * 5 * 5, 120)\n",
        "        self.fc2 = nn.Linear(120, 10)\n",
        "\n",
        "    def forward(self, x):\n",
        "        x = self.conv1(x)\n",
        "        x = self.relu(x)\n",
        "        x = self.pool(x)\n",
        "        x = self.conv2(x)\n",
        "        x = self.relu(x)\n",
        "        x = self.pool(x)\n",
        "        x = x.view(x.size()[0], -1)\n",
        "        x = self.fc1(x)\n",
        "        x = self.relu(x)\n",
        "        x = self.fc2(x)\n",
        "        return x\n",
        "\n",
        "\n",
        "device = torch.device(\"cuda:0\")\n",
        "net = Net()\n",
        "net = net.to(device)\n",
        "criterion = nn.CrossEntropyLoss()\n",
        "optimizer = optim.SGD(net.parameters(), lr=LEARNING_RATE, momentum=0.9, weight_decay=WEIGHT_DECAY)\n",
        "\n",
        "train_loss_value=[]      #trainingのlossを保持するlist\n",
        "train_acc_value=[]       #trainingのaccuracyを保持するlist\n",
        "test_loss_value=[]       #testのlossを保持するlist\n",
        "test_acc_value=[]        #testのaccuracyを保持するlist \n",
        "\n",
        "for epoch in range(EPOCH):\n",
        "    print('epoch', epoch+1)    #epoch数の出力\n",
        "    for (inputs, labels) in trainloader:\n",
        "        inputs, labels = inputs.to(device), labels.to(device)\n",
        "        optimizer.zero_grad()\n",
        "        outputs = net(inputs)\n",
        "        loss = criterion(outputs, labels)\n",
        "        loss.backward()\n",
        "        optimizer.step()\n",
        "        \n",
        "    sum_loss = 0.0          #lossの合計\n",
        "    sum_correct = 0         #正解率の合計\n",
        "    sum_total = 0           #dataの数の合計\n",
        "\n",
        "    #train dataを使ってテストをする(パラメータ更新がないようになっている)\n",
        "    for (inputs, labels) in trainloader:\n",
        "        inputs, labels = inputs.to(device), labels.to(device)\n",
        "        optimizer.zero_grad()\n",
        "        outputs = net(inputs)\n",
        "        loss = criterion(outputs, labels)\n",
        "        sum_loss += loss.item()                            #lossを足していく\n",
        "        _, predicted = outputs.max(1)                      #出力の最大値の添字(予想位置)を取得\n",
        "        sum_total += labels.size(0)                        #labelの数を足していくことでデータの総和を取る\n",
        "        sum_correct += (predicted == labels).sum().item()  #予想位置と実際の正解を比べ,正解している数だけ足す\n",
        "    print(\"train mean loss={}, accuracy={}\"\n",
        "            .format(sum_loss*BATCH_SIZE/len(trainloader.dataset), float(sum_correct/sum_total)))  #lossとaccuracy出力\n",
        "    train_loss_value.append(sum_loss*BATCH_SIZE/len(trainloader.dataset))  #traindataのlossをグラフ描画のためにlistに保持\n",
        "    train_acc_value.append(float(sum_correct/sum_total))   #traindataのaccuracyをグラフ描画のためにlistに保持\n",
        "\n",
        "    sum_loss = 0.0\n",
        "    sum_correct = 0\n",
        "    sum_total = 0\n",
        "\n",
        "    #test dataを使ってテストをする\n",
        "    for (inputs, labels) in testloader:\n",
        "        inputs, labels = inputs.to(device), labels.to(device)\n",
        "        optimizer.zero_grad()\n",
        "        outputs = net(inputs)\n",
        "        loss = criterion(outputs, labels)\n",
        "        sum_loss += loss.item()\n",
        "        _, predicted = outputs.max(1)\n",
        "        sum_total += labels.size(0)\n",
        "        sum_correct += (predicted == labels).sum().item()\n",
        "    print(\"test  mean loss={}, accuracy={}\"\n",
        "            .format(sum_loss*BATCH_SIZE/len(testloader.dataset), float(sum_correct/sum_total)))\n",
        "    test_loss_value.append(sum_loss*BATCH_SIZE/len(testloader.dataset))\n",
        "    test_acc_value.append(float(sum_correct/sum_total))\n",
        "\n",
        "plt.figure(figsize=(6,6))      #グラフ描画用\n",
        "\n",
        "#以下グラフ描画\n",
        "plt.plot(range(EPOCH), train_loss_value)\n",
        "plt.plot(range(EPOCH), test_loss_value, c='#00ff00')\n",
        "plt.xlim(0, EPOCH)\n",
        "plt.ylim(0, 2.5)\n",
        "plt.xlabel('EPOCH')\n",
        "plt.ylabel('LOSS')\n",
        "plt.legend(['train loss', 'test loss'])\n",
        "plt.title('loss')\n",
        "plt.savefig(\"loss_image.png\")\n",
        "plt.clf()\n",
        "\n",
        "plt.plot(range(EPOCH), train_acc_value)\n",
        "plt.plot(range(EPOCH), test_acc_value, c='#00ff00')\n",
        "plt.xlim(0, EPOCH)\n",
        "plt.ylim(0, 1)\n",
        "plt.xlabel('EPOCH')\n",
        "plt.ylabel('ACCURACY')\n",
        "plt.legend(['train acc', 'test acc'])\n",
        "plt.title('accuracy')\n",
        "plt.savefig(\"accuracy_image.png\")"
      ],
      "metadata": {
        "id": "4gG02WGtQaPm"
      },
      "execution_count": null,
      "outputs": []
    },
    {
      "cell_type": "code",
      "source": [
        "trainset.__getitem__(0)[0].dim()"
      ],
      "metadata": {
        "colab": {
          "base_uri": "https://localhost:8080/"
        },
        "id": "z4eW78UNUTcI",
        "outputId": "8244bd3a-7a7a-40ce-ccdb-2a3d09c123c9"
      },
      "execution_count": 46,
      "outputs": [
        {
          "output_type": "execute_result",
          "data": {
            "text/plain": [
              "3"
            ]
          },
          "metadata": {},
          "execution_count": 46
        }
      ]
    },
    {
      "cell_type": "code",
      "source": [
        "trainset.__getitem__(0)[0].size()"
      ],
      "metadata": {
        "colab": {
          "base_uri": "https://localhost:8080/"
        },
        "id": "Rb7AinX7V_t3",
        "outputId": "86576d1f-13f4-4a61-a4e3-6fd6788e767f"
      },
      "execution_count": 47,
      "outputs": [
        {
          "output_type": "execute_result",
          "data": {
            "text/plain": [
              "torch.Size([1, 28, 28])"
            ]
          },
          "metadata": {},
          "execution_count": 47
        }
      ]
    },
    {
      "cell_type": "code",
      "source": [
        "train_tensor_dset.__getitem__(0)[0].dim()"
      ],
      "metadata": {
        "colab": {
          "base_uri": "https://localhost:8080/"
        },
        "id": "-9z_pPN6WqM3",
        "outputId": "c66bd3f4-af2e-4b93-8d34-7304e0e83c37"
      },
      "execution_count": 50,
      "outputs": [
        {
          "output_type": "execute_result",
          "data": {
            "text/plain": [
              "2"
            ]
          },
          "metadata": {},
          "execution_count": 50
        }
      ]
    },
    {
      "cell_type": "code",
      "source": [
        "train_tensor_dset.__getitem__(0)[0].size()"
      ],
      "metadata": {
        "colab": {
          "base_uri": "https://localhost:8080/"
        },
        "id": "GxdOiFzgW1Gg",
        "outputId": "8ee3ff95-5dac-4714-eac9-2970cd6b4da4"
      },
      "execution_count": 51,
      "outputs": [
        {
          "output_type": "execute_result",
          "data": {
            "text/plain": [
              "torch.Size([50, 50])"
            ]
          },
          "metadata": {},
          "execution_count": 51
        }
      ]
    },
    {
      "cell_type": "code",
      "source": [],
      "metadata": {
        "id": "8dmDGXESW4Nf"
      },
      "execution_count": null,
      "outputs": []
    }
  ]
}